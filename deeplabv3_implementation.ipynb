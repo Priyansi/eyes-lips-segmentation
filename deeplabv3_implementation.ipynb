{
  "nbformat": 4,
  "nbformat_minor": 0,
  "metadata": {
    "colab": {
      "name": "fynd_assign_eyes_lips_segmentation.ipynb",
      "provenance": [],
      "collapsed_sections": []
    },
    "kernelspec": {
      "name": "python3",
      "display_name": "Python 3"
    },
    "accelerator": "GPU",
    "widgets": {
      "application/vnd.jupyter.widget-state+json": {
        "e70b7996285547efac6880d075c104c7": {
          "model_module": "@jupyter-widgets/controls",
          "model_name": "HBoxModel",
          "state": {
            "_view_name": "HBoxView",
            "_dom_classes": [],
            "_model_name": "HBoxModel",
            "_view_module": "@jupyter-widgets/controls",
            "_model_module_version": "1.5.0",
            "_view_count": null,
            "_view_module_version": "1.5.0",
            "box_style": "",
            "layout": "IPY_MODEL_dc757a2e53634ab9bcafd2b5dc25cd97",
            "_model_module": "@jupyter-widgets/controls",
            "children": [
              "IPY_MODEL_4d9f1d967265438a990d9f4dd22af770",
              "IPY_MODEL_86d95fd222194a408586e2ed38fac07f"
            ]
          }
        },
        "dc757a2e53634ab9bcafd2b5dc25cd97": {
          "model_module": "@jupyter-widgets/base",
          "model_name": "LayoutModel",
          "state": {
            "_view_name": "LayoutView",
            "grid_template_rows": null,
            "right": null,
            "justify_content": null,
            "_view_module": "@jupyter-widgets/base",
            "overflow": null,
            "_model_module_version": "1.2.0",
            "_view_count": null,
            "flex_flow": null,
            "width": null,
            "min_width": null,
            "border": null,
            "align_items": null,
            "bottom": null,
            "_model_module": "@jupyter-widgets/base",
            "top": null,
            "grid_column": null,
            "overflow_y": null,
            "overflow_x": null,
            "grid_auto_flow": null,
            "grid_area": null,
            "grid_template_columns": null,
            "flex": null,
            "_model_name": "LayoutModel",
            "justify_items": null,
            "grid_row": null,
            "max_height": null,
            "align_content": null,
            "visibility": null,
            "align_self": null,
            "height": null,
            "min_height": null,
            "padding": null,
            "grid_auto_rows": null,
            "grid_gap": null,
            "max_width": null,
            "order": null,
            "_view_module_version": "1.2.0",
            "grid_template_areas": null,
            "object_position": null,
            "object_fit": null,
            "grid_auto_columns": null,
            "margin": null,
            "display": null,
            "left": null
          }
        },
        "4d9f1d967265438a990d9f4dd22af770": {
          "model_module": "@jupyter-widgets/controls",
          "model_name": "FloatProgressModel",
          "state": {
            "_view_name": "ProgressView",
            "style": "IPY_MODEL_01ede26576ab447fb8d82b743c897e5e",
            "_dom_classes": [],
            "description": "100%",
            "_model_name": "FloatProgressModel",
            "bar_style": "success",
            "max": 97,
            "_view_module": "@jupyter-widgets/controls",
            "_model_module_version": "1.5.0",
            "value": 97,
            "_view_count": null,
            "_view_module_version": "1.5.0",
            "orientation": "horizontal",
            "min": 0,
            "description_tooltip": null,
            "_model_module": "@jupyter-widgets/controls",
            "layout": "IPY_MODEL_3bd0fd9b425d411d9be4bfdbb4d4239f"
          }
        },
        "86d95fd222194a408586e2ed38fac07f": {
          "model_module": "@jupyter-widgets/controls",
          "model_name": "HTMLModel",
          "state": {
            "_view_name": "HTMLView",
            "style": "IPY_MODEL_937c8d1c5f84458194fba67f6909f9d1",
            "_dom_classes": [],
            "description": "",
            "_model_name": "HTMLModel",
            "placeholder": "​",
            "_view_module": "@jupyter-widgets/controls",
            "_model_module_version": "1.5.0",
            "value": " 97/97 [06:10&lt;00:00,  3.82s/it, Epoch=10, Training Loss=0.0772, Mean IOU=0.767, Pixel Acc=0.993]",
            "_view_count": null,
            "_view_module_version": "1.5.0",
            "description_tooltip": null,
            "_model_module": "@jupyter-widgets/controls",
            "layout": "IPY_MODEL_87c8751f9060432484b702c953037ae1"
          }
        },
        "01ede26576ab447fb8d82b743c897e5e": {
          "model_module": "@jupyter-widgets/controls",
          "model_name": "ProgressStyleModel",
          "state": {
            "_view_name": "StyleView",
            "_model_name": "ProgressStyleModel",
            "description_width": "initial",
            "_view_module": "@jupyter-widgets/base",
            "_model_module_version": "1.5.0",
            "_view_count": null,
            "_view_module_version": "1.2.0",
            "bar_color": null,
            "_model_module": "@jupyter-widgets/controls"
          }
        },
        "3bd0fd9b425d411d9be4bfdbb4d4239f": {
          "model_module": "@jupyter-widgets/base",
          "model_name": "LayoutModel",
          "state": {
            "_view_name": "LayoutView",
            "grid_template_rows": null,
            "right": null,
            "justify_content": null,
            "_view_module": "@jupyter-widgets/base",
            "overflow": null,
            "_model_module_version": "1.2.0",
            "_view_count": null,
            "flex_flow": null,
            "width": null,
            "min_width": null,
            "border": null,
            "align_items": null,
            "bottom": null,
            "_model_module": "@jupyter-widgets/base",
            "top": null,
            "grid_column": null,
            "overflow_y": null,
            "overflow_x": null,
            "grid_auto_flow": null,
            "grid_area": null,
            "grid_template_columns": null,
            "flex": null,
            "_model_name": "LayoutModel",
            "justify_items": null,
            "grid_row": null,
            "max_height": null,
            "align_content": null,
            "visibility": null,
            "align_self": null,
            "height": null,
            "min_height": null,
            "padding": null,
            "grid_auto_rows": null,
            "grid_gap": null,
            "max_width": null,
            "order": null,
            "_view_module_version": "1.2.0",
            "grid_template_areas": null,
            "object_position": null,
            "object_fit": null,
            "grid_auto_columns": null,
            "margin": null,
            "display": null,
            "left": null
          }
        },
        "937c8d1c5f84458194fba67f6909f9d1": {
          "model_module": "@jupyter-widgets/controls",
          "model_name": "DescriptionStyleModel",
          "state": {
            "_view_name": "StyleView",
            "_model_name": "DescriptionStyleModel",
            "description_width": "",
            "_view_module": "@jupyter-widgets/base",
            "_model_module_version": "1.5.0",
            "_view_count": null,
            "_view_module_version": "1.2.0",
            "_model_module": "@jupyter-widgets/controls"
          }
        },
        "87c8751f9060432484b702c953037ae1": {
          "model_module": "@jupyter-widgets/base",
          "model_name": "LayoutModel",
          "state": {
            "_view_name": "LayoutView",
            "grid_template_rows": null,
            "right": null,
            "justify_content": null,
            "_view_module": "@jupyter-widgets/base",
            "overflow": null,
            "_model_module_version": "1.2.0",
            "_view_count": null,
            "flex_flow": null,
            "width": null,
            "min_width": null,
            "border": null,
            "align_items": null,
            "bottom": null,
            "_model_module": "@jupyter-widgets/base",
            "top": null,
            "grid_column": null,
            "overflow_y": null,
            "overflow_x": null,
            "grid_auto_flow": null,
            "grid_area": null,
            "grid_template_columns": null,
            "flex": null,
            "_model_name": "LayoutModel",
            "justify_items": null,
            "grid_row": null,
            "max_height": null,
            "align_content": null,
            "visibility": null,
            "align_self": null,
            "height": null,
            "min_height": null,
            "padding": null,
            "grid_auto_rows": null,
            "grid_gap": null,
            "max_width": null,
            "order": null,
            "_view_module_version": "1.2.0",
            "grid_template_areas": null,
            "object_position": null,
            "object_fit": null,
            "grid_auto_columns": null,
            "margin": null,
            "display": null,
            "left": null
          }
        },
        "6aef050149a740298962ed3836b783ca": {
          "model_module": "@jupyter-widgets/controls",
          "model_name": "HBoxModel",
          "state": {
            "_view_name": "HBoxView",
            "_dom_classes": [],
            "_model_name": "HBoxModel",
            "_view_module": "@jupyter-widgets/controls",
            "_model_module_version": "1.5.0",
            "_view_count": null,
            "_view_module_version": "1.5.0",
            "box_style": "",
            "layout": "IPY_MODEL_03ee6e2dfac6451aa115162a36e3effb",
            "_model_module": "@jupyter-widgets/controls",
            "children": [
              "IPY_MODEL_872e3017cccb4a679fd67acd72ff12ab",
              "IPY_MODEL_af48c73f8bf14f5aa9316fa01a7694a5"
            ]
          }
        },
        "03ee6e2dfac6451aa115162a36e3effb": {
          "model_module": "@jupyter-widgets/base",
          "model_name": "LayoutModel",
          "state": {
            "_view_name": "LayoutView",
            "grid_template_rows": null,
            "right": null,
            "justify_content": null,
            "_view_module": "@jupyter-widgets/base",
            "overflow": null,
            "_model_module_version": "1.2.0",
            "_view_count": null,
            "flex_flow": null,
            "width": null,
            "min_width": null,
            "border": null,
            "align_items": null,
            "bottom": null,
            "_model_module": "@jupyter-widgets/base",
            "top": null,
            "grid_column": null,
            "overflow_y": null,
            "overflow_x": null,
            "grid_auto_flow": null,
            "grid_area": null,
            "grid_template_columns": null,
            "flex": null,
            "_model_name": "LayoutModel",
            "justify_items": null,
            "grid_row": null,
            "max_height": null,
            "align_content": null,
            "visibility": null,
            "align_self": null,
            "height": null,
            "min_height": null,
            "padding": null,
            "grid_auto_rows": null,
            "grid_gap": null,
            "max_width": null,
            "order": null,
            "_view_module_version": "1.2.0",
            "grid_template_areas": null,
            "object_position": null,
            "object_fit": null,
            "grid_auto_columns": null,
            "margin": null,
            "display": null,
            "left": null
          }
        },
        "872e3017cccb4a679fd67acd72ff12ab": {
          "model_module": "@jupyter-widgets/controls",
          "model_name": "FloatProgressModel",
          "state": {
            "_view_name": "ProgressView",
            "style": "IPY_MODEL_81bd170b6b4d41f682c96adf1da887d9",
            "_dom_classes": [],
            "description": "100%",
            "_model_name": "FloatProgressModel",
            "bar_style": "success",
            "max": 12,
            "_view_module": "@jupyter-widgets/controls",
            "_model_module_version": "1.5.0",
            "value": 12,
            "_view_count": null,
            "_view_module_version": "1.5.0",
            "orientation": "horizontal",
            "min": 0,
            "description_tooltip": null,
            "_model_module": "@jupyter-widgets/controls",
            "layout": "IPY_MODEL_abebc0ebdde444c79c19947ab365c023"
          }
        },
        "af48c73f8bf14f5aa9316fa01a7694a5": {
          "model_module": "@jupyter-widgets/controls",
          "model_name": "HTMLModel",
          "state": {
            "_view_name": "HTMLView",
            "style": "IPY_MODEL_18769e6024934cf68f7706b67b2f585f",
            "_dom_classes": [],
            "description": "",
            "_model_name": "HTMLModel",
            "placeholder": "​",
            "_view_module": "@jupyter-widgets/controls",
            "_model_module_version": "1.5.0",
            "value": " 12/12 [39:32&lt;00:00, 197.72s/it, Epoch=10, Validation Loss=0.0721, Mean IOU=0.769, Pixel Acc=0.993]",
            "_view_count": null,
            "_view_module_version": "1.5.0",
            "description_tooltip": null,
            "_model_module": "@jupyter-widgets/controls",
            "layout": "IPY_MODEL_810e7237b1464cc883d0328a239fe7f3"
          }
        },
        "81bd170b6b4d41f682c96adf1da887d9": {
          "model_module": "@jupyter-widgets/controls",
          "model_name": "ProgressStyleModel",
          "state": {
            "_view_name": "StyleView",
            "_model_name": "ProgressStyleModel",
            "description_width": "initial",
            "_view_module": "@jupyter-widgets/base",
            "_model_module_version": "1.5.0",
            "_view_count": null,
            "_view_module_version": "1.2.0",
            "bar_color": null,
            "_model_module": "@jupyter-widgets/controls"
          }
        },
        "abebc0ebdde444c79c19947ab365c023": {
          "model_module": "@jupyter-widgets/base",
          "model_name": "LayoutModel",
          "state": {
            "_view_name": "LayoutView",
            "grid_template_rows": null,
            "right": null,
            "justify_content": null,
            "_view_module": "@jupyter-widgets/base",
            "overflow": null,
            "_model_module_version": "1.2.0",
            "_view_count": null,
            "flex_flow": null,
            "width": null,
            "min_width": null,
            "border": null,
            "align_items": null,
            "bottom": null,
            "_model_module": "@jupyter-widgets/base",
            "top": null,
            "grid_column": null,
            "overflow_y": null,
            "overflow_x": null,
            "grid_auto_flow": null,
            "grid_area": null,
            "grid_template_columns": null,
            "flex": null,
            "_model_name": "LayoutModel",
            "justify_items": null,
            "grid_row": null,
            "max_height": null,
            "align_content": null,
            "visibility": null,
            "align_self": null,
            "height": null,
            "min_height": null,
            "padding": null,
            "grid_auto_rows": null,
            "grid_gap": null,
            "max_width": null,
            "order": null,
            "_view_module_version": "1.2.0",
            "grid_template_areas": null,
            "object_position": null,
            "object_fit": null,
            "grid_auto_columns": null,
            "margin": null,
            "display": null,
            "left": null
          }
        },
        "18769e6024934cf68f7706b67b2f585f": {
          "model_module": "@jupyter-widgets/controls",
          "model_name": "DescriptionStyleModel",
          "state": {
            "_view_name": "StyleView",
            "_model_name": "DescriptionStyleModel",
            "description_width": "",
            "_view_module": "@jupyter-widgets/base",
            "_model_module_version": "1.5.0",
            "_view_count": null,
            "_view_module_version": "1.2.0",
            "_model_module": "@jupyter-widgets/controls"
          }
        },
        "810e7237b1464cc883d0328a239fe7f3": {
          "model_module": "@jupyter-widgets/base",
          "model_name": "LayoutModel",
          "state": {
            "_view_name": "LayoutView",
            "grid_template_rows": null,
            "right": null,
            "justify_content": null,
            "_view_module": "@jupyter-widgets/base",
            "overflow": null,
            "_model_module_version": "1.2.0",
            "_view_count": null,
            "flex_flow": null,
            "width": null,
            "min_width": null,
            "border": null,
            "align_items": null,
            "bottom": null,
            "_model_module": "@jupyter-widgets/base",
            "top": null,
            "grid_column": null,
            "overflow_y": null,
            "overflow_x": null,
            "grid_auto_flow": null,
            "grid_area": null,
            "grid_template_columns": null,
            "flex": null,
            "_model_name": "LayoutModel",
            "justify_items": null,
            "grid_row": null,
            "max_height": null,
            "align_content": null,
            "visibility": null,
            "align_self": null,
            "height": null,
            "min_height": null,
            "padding": null,
            "grid_auto_rows": null,
            "grid_gap": null,
            "max_width": null,
            "order": null,
            "_view_module_version": "1.2.0",
            "grid_template_areas": null,
            "object_position": null,
            "object_fit": null,
            "grid_auto_columns": null,
            "margin": null,
            "display": null,
            "left": null
          }
        },
        "64f11314e5074080a0dc57e5bf0b1928": {
          "model_module": "@jupyter-widgets/controls",
          "model_name": "HBoxModel",
          "state": {
            "_view_name": "HBoxView",
            "_dom_classes": [],
            "_model_name": "HBoxModel",
            "_view_module": "@jupyter-widgets/controls",
            "_model_module_version": "1.5.0",
            "_view_count": null,
            "_view_module_version": "1.5.0",
            "box_style": "",
            "layout": "IPY_MODEL_d72b4d84cf9b4e8c963c2ea4522a8159",
            "_model_module": "@jupyter-widgets/controls",
            "children": [
              "IPY_MODEL_9555e414815141b1afbdbe25ab0a4a1f",
              "IPY_MODEL_44dfefbe6b7b479697494e7d5c4bbc3c"
            ]
          }
        },
        "d72b4d84cf9b4e8c963c2ea4522a8159": {
          "model_module": "@jupyter-widgets/base",
          "model_name": "LayoutModel",
          "state": {
            "_view_name": "LayoutView",
            "grid_template_rows": null,
            "right": null,
            "justify_content": null,
            "_view_module": "@jupyter-widgets/base",
            "overflow": null,
            "_model_module_version": "1.2.0",
            "_view_count": null,
            "flex_flow": null,
            "width": null,
            "min_width": null,
            "border": null,
            "align_items": null,
            "bottom": null,
            "_model_module": "@jupyter-widgets/base",
            "top": null,
            "grid_column": null,
            "overflow_y": null,
            "overflow_x": null,
            "grid_auto_flow": null,
            "grid_area": null,
            "grid_template_columns": null,
            "flex": null,
            "_model_name": "LayoutModel",
            "justify_items": null,
            "grid_row": null,
            "max_height": null,
            "align_content": null,
            "visibility": null,
            "align_self": null,
            "height": null,
            "min_height": null,
            "padding": null,
            "grid_auto_rows": null,
            "grid_gap": null,
            "max_width": null,
            "order": null,
            "_view_module_version": "1.2.0",
            "grid_template_areas": null,
            "object_position": null,
            "object_fit": null,
            "grid_auto_columns": null,
            "margin": null,
            "display": null,
            "left": null
          }
        },
        "9555e414815141b1afbdbe25ab0a4a1f": {
          "model_module": "@jupyter-widgets/controls",
          "model_name": "FloatProgressModel",
          "state": {
            "_view_name": "ProgressView",
            "style": "IPY_MODEL_33c0981e8dc5430ca1986fade2d4552d",
            "_dom_classes": [],
            "description": "100%",
            "_model_name": "FloatProgressModel",
            "bar_style": "success",
            "max": 97,
            "_view_module": "@jupyter-widgets/controls",
            "_model_module_version": "1.5.0",
            "value": 97,
            "_view_count": null,
            "_view_module_version": "1.5.0",
            "orientation": "horizontal",
            "min": 0,
            "description_tooltip": null,
            "_model_module": "@jupyter-widgets/controls",
            "layout": "IPY_MODEL_c84a8a83b519472e89fcd1377f26a7b9"
          }
        },
        "44dfefbe6b7b479697494e7d5c4bbc3c": {
          "model_module": "@jupyter-widgets/controls",
          "model_name": "HTMLModel",
          "state": {
            "_view_name": "HTMLView",
            "style": "IPY_MODEL_2aa9486488d34865827fad2d0754343e",
            "_dom_classes": [],
            "description": "",
            "_model_name": "HTMLModel",
            "placeholder": "​",
            "_view_module": "@jupyter-widgets/controls",
            "_model_module_version": "1.5.0",
            "value": " 97/97 [06:11&lt;00:00,  3.83s/it, Epoch=11, Training Loss=0.0748, Mean IOU=0.769, Pixel Acc=0.993]",
            "_view_count": null,
            "_view_module_version": "1.5.0",
            "description_tooltip": null,
            "_model_module": "@jupyter-widgets/controls",
            "layout": "IPY_MODEL_bc6144cbfd414b08babd7cb5ddf9aba2"
          }
        },
        "33c0981e8dc5430ca1986fade2d4552d": {
          "model_module": "@jupyter-widgets/controls",
          "model_name": "ProgressStyleModel",
          "state": {
            "_view_name": "StyleView",
            "_model_name": "ProgressStyleModel",
            "description_width": "initial",
            "_view_module": "@jupyter-widgets/base",
            "_model_module_version": "1.5.0",
            "_view_count": null,
            "_view_module_version": "1.2.0",
            "bar_color": null,
            "_model_module": "@jupyter-widgets/controls"
          }
        },
        "c84a8a83b519472e89fcd1377f26a7b9": {
          "model_module": "@jupyter-widgets/base",
          "model_name": "LayoutModel",
          "state": {
            "_view_name": "LayoutView",
            "grid_template_rows": null,
            "right": null,
            "justify_content": null,
            "_view_module": "@jupyter-widgets/base",
            "overflow": null,
            "_model_module_version": "1.2.0",
            "_view_count": null,
            "flex_flow": null,
            "width": null,
            "min_width": null,
            "border": null,
            "align_items": null,
            "bottom": null,
            "_model_module": "@jupyter-widgets/base",
            "top": null,
            "grid_column": null,
            "overflow_y": null,
            "overflow_x": null,
            "grid_auto_flow": null,
            "grid_area": null,
            "grid_template_columns": null,
            "flex": null,
            "_model_name": "LayoutModel",
            "justify_items": null,
            "grid_row": null,
            "max_height": null,
            "align_content": null,
            "visibility": null,
            "align_self": null,
            "height": null,
            "min_height": null,
            "padding": null,
            "grid_auto_rows": null,
            "grid_gap": null,
            "max_width": null,
            "order": null,
            "_view_module_version": "1.2.0",
            "grid_template_areas": null,
            "object_position": null,
            "object_fit": null,
            "grid_auto_columns": null,
            "margin": null,
            "display": null,
            "left": null
          }
        },
        "2aa9486488d34865827fad2d0754343e": {
          "model_module": "@jupyter-widgets/controls",
          "model_name": "DescriptionStyleModel",
          "state": {
            "_view_name": "StyleView",
            "_model_name": "DescriptionStyleModel",
            "description_width": "",
            "_view_module": "@jupyter-widgets/base",
            "_model_module_version": "1.5.0",
            "_view_count": null,
            "_view_module_version": "1.2.0",
            "_model_module": "@jupyter-widgets/controls"
          }
        },
        "bc6144cbfd414b08babd7cb5ddf9aba2": {
          "model_module": "@jupyter-widgets/base",
          "model_name": "LayoutModel",
          "state": {
            "_view_name": "LayoutView",
            "grid_template_rows": null,
            "right": null,
            "justify_content": null,
            "_view_module": "@jupyter-widgets/base",
            "overflow": null,
            "_model_module_version": "1.2.0",
            "_view_count": null,
            "flex_flow": null,
            "width": null,
            "min_width": null,
            "border": null,
            "align_items": null,
            "bottom": null,
            "_model_module": "@jupyter-widgets/base",
            "top": null,
            "grid_column": null,
            "overflow_y": null,
            "overflow_x": null,
            "grid_auto_flow": null,
            "grid_area": null,
            "grid_template_columns": null,
            "flex": null,
            "_model_name": "LayoutModel",
            "justify_items": null,
            "grid_row": null,
            "max_height": null,
            "align_content": null,
            "visibility": null,
            "align_self": null,
            "height": null,
            "min_height": null,
            "padding": null,
            "grid_auto_rows": null,
            "grid_gap": null,
            "max_width": null,
            "order": null,
            "_view_module_version": "1.2.0",
            "grid_template_areas": null,
            "object_position": null,
            "object_fit": null,
            "grid_auto_columns": null,
            "margin": null,
            "display": null,
            "left": null
          }
        },
        "5b8e4fc78c2e4f65aec6dee95a4185c5": {
          "model_module": "@jupyter-widgets/controls",
          "model_name": "HBoxModel",
          "state": {
            "_view_name": "HBoxView",
            "_dom_classes": [],
            "_model_name": "HBoxModel",
            "_view_module": "@jupyter-widgets/controls",
            "_model_module_version": "1.5.0",
            "_view_count": null,
            "_view_module_version": "1.5.0",
            "box_style": "",
            "layout": "IPY_MODEL_8d471cc869a34b43af3da055435c4919",
            "_model_module": "@jupyter-widgets/controls",
            "children": [
              "IPY_MODEL_16b9937062084b47bca3cb4257cda37c",
              "IPY_MODEL_dd913309b530476298d338562bb3c1de"
            ]
          }
        },
        "8d471cc869a34b43af3da055435c4919": {
          "model_module": "@jupyter-widgets/base",
          "model_name": "LayoutModel",
          "state": {
            "_view_name": "LayoutView",
            "grid_template_rows": null,
            "right": null,
            "justify_content": null,
            "_view_module": "@jupyter-widgets/base",
            "overflow": null,
            "_model_module_version": "1.2.0",
            "_view_count": null,
            "flex_flow": null,
            "width": null,
            "min_width": null,
            "border": null,
            "align_items": null,
            "bottom": null,
            "_model_module": "@jupyter-widgets/base",
            "top": null,
            "grid_column": null,
            "overflow_y": null,
            "overflow_x": null,
            "grid_auto_flow": null,
            "grid_area": null,
            "grid_template_columns": null,
            "flex": null,
            "_model_name": "LayoutModel",
            "justify_items": null,
            "grid_row": null,
            "max_height": null,
            "align_content": null,
            "visibility": null,
            "align_self": null,
            "height": null,
            "min_height": null,
            "padding": null,
            "grid_auto_rows": null,
            "grid_gap": null,
            "max_width": null,
            "order": null,
            "_view_module_version": "1.2.0",
            "grid_template_areas": null,
            "object_position": null,
            "object_fit": null,
            "grid_auto_columns": null,
            "margin": null,
            "display": null,
            "left": null
          }
        },
        "16b9937062084b47bca3cb4257cda37c": {
          "model_module": "@jupyter-widgets/controls",
          "model_name": "FloatProgressModel",
          "state": {
            "_view_name": "ProgressView",
            "style": "IPY_MODEL_3caa942f4faf488982c4370f953438ea",
            "_dom_classes": [],
            "description": "100%",
            "_model_name": "FloatProgressModel",
            "bar_style": "success",
            "max": 12,
            "_view_module": "@jupyter-widgets/controls",
            "_model_module_version": "1.5.0",
            "value": 12,
            "_view_count": null,
            "_view_module_version": "1.5.0",
            "orientation": "horizontal",
            "min": 0,
            "description_tooltip": null,
            "_model_module": "@jupyter-widgets/controls",
            "layout": "IPY_MODEL_10fe33da9dc74726b9bafea69c71197f"
          }
        },
        "dd913309b530476298d338562bb3c1de": {
          "model_module": "@jupyter-widgets/controls",
          "model_name": "HTMLModel",
          "state": {
            "_view_name": "HTMLView",
            "style": "IPY_MODEL_96439166f8db4231b44620f91e85d20e",
            "_dom_classes": [],
            "description": "",
            "_model_name": "HTMLModel",
            "placeholder": "​",
            "_view_module": "@jupyter-widgets/controls",
            "_model_module_version": "1.5.0",
            "value": " 12/12 [33:18&lt;00:00, 166.53s/it, Epoch=11, Validation Loss=0.0702, Mean IOU=0.771, Pixel Acc=0.993]",
            "_view_count": null,
            "_view_module_version": "1.5.0",
            "description_tooltip": null,
            "_model_module": "@jupyter-widgets/controls",
            "layout": "IPY_MODEL_3c22a63243f84f428f867475b51c7ae3"
          }
        },
        "3caa942f4faf488982c4370f953438ea": {
          "model_module": "@jupyter-widgets/controls",
          "model_name": "ProgressStyleModel",
          "state": {
            "_view_name": "StyleView",
            "_model_name": "ProgressStyleModel",
            "description_width": "initial",
            "_view_module": "@jupyter-widgets/base",
            "_model_module_version": "1.5.0",
            "_view_count": null,
            "_view_module_version": "1.2.0",
            "bar_color": null,
            "_model_module": "@jupyter-widgets/controls"
          }
        },
        "10fe33da9dc74726b9bafea69c71197f": {
          "model_module": "@jupyter-widgets/base",
          "model_name": "LayoutModel",
          "state": {
            "_view_name": "LayoutView",
            "grid_template_rows": null,
            "right": null,
            "justify_content": null,
            "_view_module": "@jupyter-widgets/base",
            "overflow": null,
            "_model_module_version": "1.2.0",
            "_view_count": null,
            "flex_flow": null,
            "width": null,
            "min_width": null,
            "border": null,
            "align_items": null,
            "bottom": null,
            "_model_module": "@jupyter-widgets/base",
            "top": null,
            "grid_column": null,
            "overflow_y": null,
            "overflow_x": null,
            "grid_auto_flow": null,
            "grid_area": null,
            "grid_template_columns": null,
            "flex": null,
            "_model_name": "LayoutModel",
            "justify_items": null,
            "grid_row": null,
            "max_height": null,
            "align_content": null,
            "visibility": null,
            "align_self": null,
            "height": null,
            "min_height": null,
            "padding": null,
            "grid_auto_rows": null,
            "grid_gap": null,
            "max_width": null,
            "order": null,
            "_view_module_version": "1.2.0",
            "grid_template_areas": null,
            "object_position": null,
            "object_fit": null,
            "grid_auto_columns": null,
            "margin": null,
            "display": null,
            "left": null
          }
        },
        "96439166f8db4231b44620f91e85d20e": {
          "model_module": "@jupyter-widgets/controls",
          "model_name": "DescriptionStyleModel",
          "state": {
            "_view_name": "StyleView",
            "_model_name": "DescriptionStyleModel",
            "description_width": "",
            "_view_module": "@jupyter-widgets/base",
            "_model_module_version": "1.5.0",
            "_view_count": null,
            "_view_module_version": "1.2.0",
            "_model_module": "@jupyter-widgets/controls"
          }
        },
        "3c22a63243f84f428f867475b51c7ae3": {
          "model_module": "@jupyter-widgets/base",
          "model_name": "LayoutModel",
          "state": {
            "_view_name": "LayoutView",
            "grid_template_rows": null,
            "right": null,
            "justify_content": null,
            "_view_module": "@jupyter-widgets/base",
            "overflow": null,
            "_model_module_version": "1.2.0",
            "_view_count": null,
            "flex_flow": null,
            "width": null,
            "min_width": null,
            "border": null,
            "align_items": null,
            "bottom": null,
            "_model_module": "@jupyter-widgets/base",
            "top": null,
            "grid_column": null,
            "overflow_y": null,
            "overflow_x": null,
            "grid_auto_flow": null,
            "grid_area": null,
            "grid_template_columns": null,
            "flex": null,
            "_model_name": "LayoutModel",
            "justify_items": null,
            "grid_row": null,
            "max_height": null,
            "align_content": null,
            "visibility": null,
            "align_self": null,
            "height": null,
            "min_height": null,
            "padding": null,
            "grid_auto_rows": null,
            "grid_gap": null,
            "max_width": null,
            "order": null,
            "_view_module_version": "1.2.0",
            "grid_template_areas": null,
            "object_position": null,
            "object_fit": null,
            "grid_auto_columns": null,
            "margin": null,
            "display": null,
            "left": null
          }
        },
        "f393e42419714da59ab49abb36bd49f5": {
          "model_module": "@jupyter-widgets/controls",
          "model_name": "HBoxModel",
          "state": {
            "_view_name": "HBoxView",
            "_dom_classes": [],
            "_model_name": "HBoxModel",
            "_view_module": "@jupyter-widgets/controls",
            "_model_module_version": "1.5.0",
            "_view_count": null,
            "_view_module_version": "1.5.0",
            "box_style": "",
            "layout": "IPY_MODEL_34664a6f7d1c418e9a1e251dcf80f710",
            "_model_module": "@jupyter-widgets/controls",
            "children": [
              "IPY_MODEL_7d78dd9e9a8c4cbfbbb423c52fecf291",
              "IPY_MODEL_3ec691c737aa48a8a434c381a04c407d"
            ]
          }
        },
        "34664a6f7d1c418e9a1e251dcf80f710": {
          "model_module": "@jupyter-widgets/base",
          "model_name": "LayoutModel",
          "state": {
            "_view_name": "LayoutView",
            "grid_template_rows": null,
            "right": null,
            "justify_content": null,
            "_view_module": "@jupyter-widgets/base",
            "overflow": null,
            "_model_module_version": "1.2.0",
            "_view_count": null,
            "flex_flow": null,
            "width": null,
            "min_width": null,
            "border": null,
            "align_items": null,
            "bottom": null,
            "_model_module": "@jupyter-widgets/base",
            "top": null,
            "grid_column": null,
            "overflow_y": null,
            "overflow_x": null,
            "grid_auto_flow": null,
            "grid_area": null,
            "grid_template_columns": null,
            "flex": null,
            "_model_name": "LayoutModel",
            "justify_items": null,
            "grid_row": null,
            "max_height": null,
            "align_content": null,
            "visibility": null,
            "align_self": null,
            "height": null,
            "min_height": null,
            "padding": null,
            "grid_auto_rows": null,
            "grid_gap": null,
            "max_width": null,
            "order": null,
            "_view_module_version": "1.2.0",
            "grid_template_areas": null,
            "object_position": null,
            "object_fit": null,
            "grid_auto_columns": null,
            "margin": null,
            "display": null,
            "left": null
          }
        },
        "7d78dd9e9a8c4cbfbbb423c52fecf291": {
          "model_module": "@jupyter-widgets/controls",
          "model_name": "FloatProgressModel",
          "state": {
            "_view_name": "ProgressView",
            "style": "IPY_MODEL_718193a297914515b13440cc9c798965",
            "_dom_classes": [],
            "description": "100%",
            "_model_name": "FloatProgressModel",
            "bar_style": "success",
            "max": 97,
            "_view_module": "@jupyter-widgets/controls",
            "_model_module_version": "1.5.0",
            "value": 97,
            "_view_count": null,
            "_view_module_version": "1.5.0",
            "orientation": "horizontal",
            "min": 0,
            "description_tooltip": null,
            "_model_module": "@jupyter-widgets/controls",
            "layout": "IPY_MODEL_e55d169cc81a44f4894369e7449635ee"
          }
        },
        "3ec691c737aa48a8a434c381a04c407d": {
          "model_module": "@jupyter-widgets/controls",
          "model_name": "HTMLModel",
          "state": {
            "_view_name": "HTMLView",
            "style": "IPY_MODEL_09a23a966760452f9518579de0ed3829",
            "_dom_classes": [],
            "description": "",
            "_model_name": "HTMLModel",
            "placeholder": "​",
            "_view_module": "@jupyter-widgets/controls",
            "_model_module_version": "1.5.0",
            "value": " 97/97 [13:21&lt;00:00,  8.26s/it, Epoch=12, Training Loss=0.0728, Mean IOU=0.771, Pixel Acc=0.993]",
            "_view_count": null,
            "_view_module_version": "1.5.0",
            "description_tooltip": null,
            "_model_module": "@jupyter-widgets/controls",
            "layout": "IPY_MODEL_86d7e27d25e240c8bfe80e6e67356ca0"
          }
        },
        "718193a297914515b13440cc9c798965": {
          "model_module": "@jupyter-widgets/controls",
          "model_name": "ProgressStyleModel",
          "state": {
            "_view_name": "StyleView",
            "_model_name": "ProgressStyleModel",
            "description_width": "initial",
            "_view_module": "@jupyter-widgets/base",
            "_model_module_version": "1.5.0",
            "_view_count": null,
            "_view_module_version": "1.2.0",
            "bar_color": null,
            "_model_module": "@jupyter-widgets/controls"
          }
        },
        "e55d169cc81a44f4894369e7449635ee": {
          "model_module": "@jupyter-widgets/base",
          "model_name": "LayoutModel",
          "state": {
            "_view_name": "LayoutView",
            "grid_template_rows": null,
            "right": null,
            "justify_content": null,
            "_view_module": "@jupyter-widgets/base",
            "overflow": null,
            "_model_module_version": "1.2.0",
            "_view_count": null,
            "flex_flow": null,
            "width": null,
            "min_width": null,
            "border": null,
            "align_items": null,
            "bottom": null,
            "_model_module": "@jupyter-widgets/base",
            "top": null,
            "grid_column": null,
            "overflow_y": null,
            "overflow_x": null,
            "grid_auto_flow": null,
            "grid_area": null,
            "grid_template_columns": null,
            "flex": null,
            "_model_name": "LayoutModel",
            "justify_items": null,
            "grid_row": null,
            "max_height": null,
            "align_content": null,
            "visibility": null,
            "align_self": null,
            "height": null,
            "min_height": null,
            "padding": null,
            "grid_auto_rows": null,
            "grid_gap": null,
            "max_width": null,
            "order": null,
            "_view_module_version": "1.2.0",
            "grid_template_areas": null,
            "object_position": null,
            "object_fit": null,
            "grid_auto_columns": null,
            "margin": null,
            "display": null,
            "left": null
          }
        },
        "09a23a966760452f9518579de0ed3829": {
          "model_module": "@jupyter-widgets/controls",
          "model_name": "DescriptionStyleModel",
          "state": {
            "_view_name": "StyleView",
            "_model_name": "DescriptionStyleModel",
            "description_width": "",
            "_view_module": "@jupyter-widgets/base",
            "_model_module_version": "1.5.0",
            "_view_count": null,
            "_view_module_version": "1.2.0",
            "_model_module": "@jupyter-widgets/controls"
          }
        },
        "86d7e27d25e240c8bfe80e6e67356ca0": {
          "model_module": "@jupyter-widgets/base",
          "model_name": "LayoutModel",
          "state": {
            "_view_name": "LayoutView",
            "grid_template_rows": null,
            "right": null,
            "justify_content": null,
            "_view_module": "@jupyter-widgets/base",
            "overflow": null,
            "_model_module_version": "1.2.0",
            "_view_count": null,
            "flex_flow": null,
            "width": null,
            "min_width": null,
            "border": null,
            "align_items": null,
            "bottom": null,
            "_model_module": "@jupyter-widgets/base",
            "top": null,
            "grid_column": null,
            "overflow_y": null,
            "overflow_x": null,
            "grid_auto_flow": null,
            "grid_area": null,
            "grid_template_columns": null,
            "flex": null,
            "_model_name": "LayoutModel",
            "justify_items": null,
            "grid_row": null,
            "max_height": null,
            "align_content": null,
            "visibility": null,
            "align_self": null,
            "height": null,
            "min_height": null,
            "padding": null,
            "grid_auto_rows": null,
            "grid_gap": null,
            "max_width": null,
            "order": null,
            "_view_module_version": "1.2.0",
            "grid_template_areas": null,
            "object_position": null,
            "object_fit": null,
            "grid_auto_columns": null,
            "margin": null,
            "display": null,
            "left": null
          }
        },
        "a37e674f2a804975a8367e7c94180cd3": {
          "model_module": "@jupyter-widgets/controls",
          "model_name": "HBoxModel",
          "state": {
            "_view_name": "HBoxView",
            "_dom_classes": [],
            "_model_name": "HBoxModel",
            "_view_module": "@jupyter-widgets/controls",
            "_model_module_version": "1.5.0",
            "_view_count": null,
            "_view_module_version": "1.5.0",
            "box_style": "",
            "layout": "IPY_MODEL_8b130f2573574fbca2cf806bc482f223",
            "_model_module": "@jupyter-widgets/controls",
            "children": [
              "IPY_MODEL_38c300d1c62d4e1c84a98776ca4c6117",
              "IPY_MODEL_6c3bfd3c36374221a27980935925d631"
            ]
          }
        },
        "8b130f2573574fbca2cf806bc482f223": {
          "model_module": "@jupyter-widgets/base",
          "model_name": "LayoutModel",
          "state": {
            "_view_name": "LayoutView",
            "grid_template_rows": null,
            "right": null,
            "justify_content": null,
            "_view_module": "@jupyter-widgets/base",
            "overflow": null,
            "_model_module_version": "1.2.0",
            "_view_count": null,
            "flex_flow": null,
            "width": null,
            "min_width": null,
            "border": null,
            "align_items": null,
            "bottom": null,
            "_model_module": "@jupyter-widgets/base",
            "top": null,
            "grid_column": null,
            "overflow_y": null,
            "overflow_x": null,
            "grid_auto_flow": null,
            "grid_area": null,
            "grid_template_columns": null,
            "flex": null,
            "_model_name": "LayoutModel",
            "justify_items": null,
            "grid_row": null,
            "max_height": null,
            "align_content": null,
            "visibility": null,
            "align_self": null,
            "height": null,
            "min_height": null,
            "padding": null,
            "grid_auto_rows": null,
            "grid_gap": null,
            "max_width": null,
            "order": null,
            "_view_module_version": "1.2.0",
            "grid_template_areas": null,
            "object_position": null,
            "object_fit": null,
            "grid_auto_columns": null,
            "margin": null,
            "display": null,
            "left": null
          }
        },
        "38c300d1c62d4e1c84a98776ca4c6117": {
          "model_module": "@jupyter-widgets/controls",
          "model_name": "FloatProgressModel",
          "state": {
            "_view_name": "ProgressView",
            "style": "IPY_MODEL_71dc1e0ab38c4a90b1e85b1ab36537a4",
            "_dom_classes": [],
            "description": "100%",
            "_model_name": "FloatProgressModel",
            "bar_style": "success",
            "max": 12,
            "_view_module": "@jupyter-widgets/controls",
            "_model_module_version": "1.5.0",
            "value": 12,
            "_view_count": null,
            "_view_module_version": "1.5.0",
            "orientation": "horizontal",
            "min": 0,
            "description_tooltip": null,
            "_model_module": "@jupyter-widgets/controls",
            "layout": "IPY_MODEL_d0a2ab9a909d4121b944e15b4e18a168"
          }
        },
        "6c3bfd3c36374221a27980935925d631": {
          "model_module": "@jupyter-widgets/controls",
          "model_name": "HTMLModel",
          "state": {
            "_view_name": "HTMLView",
            "style": "IPY_MODEL_dfb7cd70358b4a6195d749252c4b587c",
            "_dom_classes": [],
            "description": "",
            "_model_name": "HTMLModel",
            "placeholder": "​",
            "_view_module": "@jupyter-widgets/controls",
            "_model_module_version": "1.5.0",
            "value": " 12/12 [07:25&lt;00:00, 37.10s/it, Epoch=12, Validation Loss=0.0685, Mean IOU=0.772, Pixel Acc=0.993]",
            "_view_count": null,
            "_view_module_version": "1.5.0",
            "description_tooltip": null,
            "_model_module": "@jupyter-widgets/controls",
            "layout": "IPY_MODEL_cf7e3756a06b475bbdd0cb291fdde7d5"
          }
        },
        "71dc1e0ab38c4a90b1e85b1ab36537a4": {
          "model_module": "@jupyter-widgets/controls",
          "model_name": "ProgressStyleModel",
          "state": {
            "_view_name": "StyleView",
            "_model_name": "ProgressStyleModel",
            "description_width": "initial",
            "_view_module": "@jupyter-widgets/base",
            "_model_module_version": "1.5.0",
            "_view_count": null,
            "_view_module_version": "1.2.0",
            "bar_color": null,
            "_model_module": "@jupyter-widgets/controls"
          }
        },
        "d0a2ab9a909d4121b944e15b4e18a168": {
          "model_module": "@jupyter-widgets/base",
          "model_name": "LayoutModel",
          "state": {
            "_view_name": "LayoutView",
            "grid_template_rows": null,
            "right": null,
            "justify_content": null,
            "_view_module": "@jupyter-widgets/base",
            "overflow": null,
            "_model_module_version": "1.2.0",
            "_view_count": null,
            "flex_flow": null,
            "width": null,
            "min_width": null,
            "border": null,
            "align_items": null,
            "bottom": null,
            "_model_module": "@jupyter-widgets/base",
            "top": null,
            "grid_column": null,
            "overflow_y": null,
            "overflow_x": null,
            "grid_auto_flow": null,
            "grid_area": null,
            "grid_template_columns": null,
            "flex": null,
            "_model_name": "LayoutModel",
            "justify_items": null,
            "grid_row": null,
            "max_height": null,
            "align_content": null,
            "visibility": null,
            "align_self": null,
            "height": null,
            "min_height": null,
            "padding": null,
            "grid_auto_rows": null,
            "grid_gap": null,
            "max_width": null,
            "order": null,
            "_view_module_version": "1.2.0",
            "grid_template_areas": null,
            "object_position": null,
            "object_fit": null,
            "grid_auto_columns": null,
            "margin": null,
            "display": null,
            "left": null
          }
        },
        "dfb7cd70358b4a6195d749252c4b587c": {
          "model_module": "@jupyter-widgets/controls",
          "model_name": "DescriptionStyleModel",
          "state": {
            "_view_name": "StyleView",
            "_model_name": "DescriptionStyleModel",
            "description_width": "",
            "_view_module": "@jupyter-widgets/base",
            "_model_module_version": "1.5.0",
            "_view_count": null,
            "_view_module_version": "1.2.0",
            "_model_module": "@jupyter-widgets/controls"
          }
        },
        "cf7e3756a06b475bbdd0cb291fdde7d5": {
          "model_module": "@jupyter-widgets/base",
          "model_name": "LayoutModel",
          "state": {
            "_view_name": "LayoutView",
            "grid_template_rows": null,
            "right": null,
            "justify_content": null,
            "_view_module": "@jupyter-widgets/base",
            "overflow": null,
            "_model_module_version": "1.2.0",
            "_view_count": null,
            "flex_flow": null,
            "width": null,
            "min_width": null,
            "border": null,
            "align_items": null,
            "bottom": null,
            "_model_module": "@jupyter-widgets/base",
            "top": null,
            "grid_column": null,
            "overflow_y": null,
            "overflow_x": null,
            "grid_auto_flow": null,
            "grid_area": null,
            "grid_template_columns": null,
            "flex": null,
            "_model_name": "LayoutModel",
            "justify_items": null,
            "grid_row": null,
            "max_height": null,
            "align_content": null,
            "visibility": null,
            "align_self": null,
            "height": null,
            "min_height": null,
            "padding": null,
            "grid_auto_rows": null,
            "grid_gap": null,
            "max_width": null,
            "order": null,
            "_view_module_version": "1.2.0",
            "grid_template_areas": null,
            "object_position": null,
            "object_fit": null,
            "grid_auto_columns": null,
            "margin": null,
            "display": null,
            "left": null
          }
        },
        "3044576a4d7f4c249e2df405861e0d78": {
          "model_module": "@jupyter-widgets/controls",
          "model_name": "HBoxModel",
          "state": {
            "_view_name": "HBoxView",
            "_dom_classes": [],
            "_model_name": "HBoxModel",
            "_view_module": "@jupyter-widgets/controls",
            "_model_module_version": "1.5.0",
            "_view_count": null,
            "_view_module_version": "1.5.0",
            "box_style": "",
            "layout": "IPY_MODEL_15c6b54705b1441a9e0ceb2ae4a20095",
            "_model_module": "@jupyter-widgets/controls",
            "children": [
              "IPY_MODEL_f0fbfbe767d44e2ba5a2432e56d36c1b",
              "IPY_MODEL_7dce8f4eacef4a23a46b54a2f876a8e9"
            ]
          }
        },
        "15c6b54705b1441a9e0ceb2ae4a20095": {
          "model_module": "@jupyter-widgets/base",
          "model_name": "LayoutModel",
          "state": {
            "_view_name": "LayoutView",
            "grid_template_rows": null,
            "right": null,
            "justify_content": null,
            "_view_module": "@jupyter-widgets/base",
            "overflow": null,
            "_model_module_version": "1.2.0",
            "_view_count": null,
            "flex_flow": null,
            "width": null,
            "min_width": null,
            "border": null,
            "align_items": null,
            "bottom": null,
            "_model_module": "@jupyter-widgets/base",
            "top": null,
            "grid_column": null,
            "overflow_y": null,
            "overflow_x": null,
            "grid_auto_flow": null,
            "grid_area": null,
            "grid_template_columns": null,
            "flex": null,
            "_model_name": "LayoutModel",
            "justify_items": null,
            "grid_row": null,
            "max_height": null,
            "align_content": null,
            "visibility": null,
            "align_self": null,
            "height": null,
            "min_height": null,
            "padding": null,
            "grid_auto_rows": null,
            "grid_gap": null,
            "max_width": null,
            "order": null,
            "_view_module_version": "1.2.0",
            "grid_template_areas": null,
            "object_position": null,
            "object_fit": null,
            "grid_auto_columns": null,
            "margin": null,
            "display": null,
            "left": null
          }
        },
        "f0fbfbe767d44e2ba5a2432e56d36c1b": {
          "model_module": "@jupyter-widgets/controls",
          "model_name": "FloatProgressModel",
          "state": {
            "_view_name": "ProgressView",
            "style": "IPY_MODEL_360b73522e7543268880a0572238b1c6",
            "_dom_classes": [],
            "description": "100%",
            "_model_name": "FloatProgressModel",
            "bar_style": "success",
            "max": 74,
            "_view_module": "@jupyter-widgets/controls",
            "_model_module_version": "1.5.0",
            "value": 74,
            "_view_count": null,
            "_view_module_version": "1.5.0",
            "orientation": "horizontal",
            "min": 0,
            "description_tooltip": null,
            "_model_module": "@jupyter-widgets/controls",
            "layout": "IPY_MODEL_615e5fa9938443afa6d6c334129ab559"
          }
        },
        "7dce8f4eacef4a23a46b54a2f876a8e9": {
          "model_module": "@jupyter-widgets/controls",
          "model_name": "HTMLModel",
          "state": {
            "_view_name": "HTMLView",
            "style": "IPY_MODEL_eadb214f42ac43f9baf8d6ab917d0029",
            "_dom_classes": [],
            "description": "",
            "_model_name": "HTMLModel",
            "placeholder": "​",
            "_view_module": "@jupyter-widgets/controls",
            "_model_module_version": "1.5.0",
            "value": " 74/74 [09:30&lt;00:00,  7.71s/it, Validation Loss=0.032, Mean IOU=0.801, Pixel Acc=0.994]",
            "_view_count": null,
            "_view_module_version": "1.5.0",
            "description_tooltip": null,
            "_model_module": "@jupyter-widgets/controls",
            "layout": "IPY_MODEL_5133872050884209b5801ee77894b83d"
          }
        },
        "360b73522e7543268880a0572238b1c6": {
          "model_module": "@jupyter-widgets/controls",
          "model_name": "ProgressStyleModel",
          "state": {
            "_view_name": "StyleView",
            "_model_name": "ProgressStyleModel",
            "description_width": "initial",
            "_view_module": "@jupyter-widgets/base",
            "_model_module_version": "1.5.0",
            "_view_count": null,
            "_view_module_version": "1.2.0",
            "bar_color": null,
            "_model_module": "@jupyter-widgets/controls"
          }
        },
        "615e5fa9938443afa6d6c334129ab559": {
          "model_module": "@jupyter-widgets/base",
          "model_name": "LayoutModel",
          "state": {
            "_view_name": "LayoutView",
            "grid_template_rows": null,
            "right": null,
            "justify_content": null,
            "_view_module": "@jupyter-widgets/base",
            "overflow": null,
            "_model_module_version": "1.2.0",
            "_view_count": null,
            "flex_flow": null,
            "width": null,
            "min_width": null,
            "border": null,
            "align_items": null,
            "bottom": null,
            "_model_module": "@jupyter-widgets/base",
            "top": null,
            "grid_column": null,
            "overflow_y": null,
            "overflow_x": null,
            "grid_auto_flow": null,
            "grid_area": null,
            "grid_template_columns": null,
            "flex": null,
            "_model_name": "LayoutModel",
            "justify_items": null,
            "grid_row": null,
            "max_height": null,
            "align_content": null,
            "visibility": null,
            "align_self": null,
            "height": null,
            "min_height": null,
            "padding": null,
            "grid_auto_rows": null,
            "grid_gap": null,
            "max_width": null,
            "order": null,
            "_view_module_version": "1.2.0",
            "grid_template_areas": null,
            "object_position": null,
            "object_fit": null,
            "grid_auto_columns": null,
            "margin": null,
            "display": null,
            "left": null
          }
        },
        "eadb214f42ac43f9baf8d6ab917d0029": {
          "model_module": "@jupyter-widgets/controls",
          "model_name": "DescriptionStyleModel",
          "state": {
            "_view_name": "StyleView",
            "_model_name": "DescriptionStyleModel",
            "description_width": "",
            "_view_module": "@jupyter-widgets/base",
            "_model_module_version": "1.5.0",
            "_view_count": null,
            "_view_module_version": "1.2.0",
            "_model_module": "@jupyter-widgets/controls"
          }
        },
        "5133872050884209b5801ee77894b83d": {
          "model_module": "@jupyter-widgets/base",
          "model_name": "LayoutModel",
          "state": {
            "_view_name": "LayoutView",
            "grid_template_rows": null,
            "right": null,
            "justify_content": null,
            "_view_module": "@jupyter-widgets/base",
            "overflow": null,
            "_model_module_version": "1.2.0",
            "_view_count": null,
            "flex_flow": null,
            "width": null,
            "min_width": null,
            "border": null,
            "align_items": null,
            "bottom": null,
            "_model_module": "@jupyter-widgets/base",
            "top": null,
            "grid_column": null,
            "overflow_y": null,
            "overflow_x": null,
            "grid_auto_flow": null,
            "grid_area": null,
            "grid_template_columns": null,
            "flex": null,
            "_model_name": "LayoutModel",
            "justify_items": null,
            "grid_row": null,
            "max_height": null,
            "align_content": null,
            "visibility": null,
            "align_self": null,
            "height": null,
            "min_height": null,
            "padding": null,
            "grid_auto_rows": null,
            "grid_gap": null,
            "max_width": null,
            "order": null,
            "_view_module_version": "1.2.0",
            "grid_template_areas": null,
            "object_position": null,
            "object_fit": null,
            "grid_auto_columns": null,
            "margin": null,
            "display": null,
            "left": null
          }
        }
      }
    }
  },
  "cells": [
    {
      "cell_type": "markdown",
      "metadata": {
        "id": "xpzPpy95kIDK"
      },
      "source": [
        "# Eyes and Lips Segmentation with DeepLabv3"
      ]
    },
    {
      "cell_type": "markdown",
      "metadata": {
        "id": "gnExMYO7ku14"
      },
      "source": [
        "## Imports"
      ]
    },
    {
      "cell_type": "code",
      "metadata": {
        "id": "LK9VM9wSfuIh"
      },
      "source": [
        "import os\r\n",
        "import cv2\r\n",
        "import glob\r\n",
        "import numpy as np\r\n",
        "import matplotlib.pyplot as plt\r\n",
        "import pandas as pd\r\n",
        "import glob\r\n",
        "from PIL import Image\r\n",
        "import torch\r\n",
        "from torch import nn\r\n",
        "from torchvision import transforms\r\n",
        "from torch.utils.data import Dataset, DataLoader\r\n",
        "import torchvision.models as models\r\n",
        "from tqdm.notebook import tqdm\r\n",
        "from torchvision.models.segmentation.deeplabv3 import DeepLabHead\r\n",
        "from torch.autograd import Variable"
      ],
      "execution_count": null,
      "outputs": []
    },
    {
      "cell_type": "markdown",
      "metadata": {
        "id": "KoLoymttkw8E"
      },
      "source": [
        "## Data Preprocessing"
      ]
    },
    {
      "cell_type": "markdown",
      "metadata": {
        "id": "HKR6b4OqRfoS"
      },
      "source": [
        "The 4 different channels for each image (left eye, right eye, upper lip and lower lip) given in the dataset are combined into one black and white image of (512, 512) size in the script `make_masks.py`. Run this script locally once you have unzipped CelebMask-HQ dataset. Once then the output should look like [this](https://drive.google.com/drive/folders/1-_K1XRGiyYN08LttA7vkyG72Hn1Q-0bt?usp=sharing).\r\n",
        "\r\n",
        "```\r\n",
        "import os\r\n",
        "import cv2\r\n",
        "import numpy as np\r\n",
        "\r\n",
        "label_list = ['l_eye', 'r_eye', 'u_lip', 'l_lip']\r\n",
        "\r\n",
        "folder_base = 'CelebAMask-HQ-mask-anno'\r\n",
        "folder_save = 'CelebAMaskHQ-mask'\r\n",
        "\r\n",
        "img_num = 30000\r\n",
        "\r\n",
        "os.chdir(os.path.join(os.getcwd()))\r\n",
        "\r\n",
        "print(os.listdir())\r\n",
        "\r\n",
        "\r\n",
        "def make_folder(path):\r\n",
        "    if not os.path.exists(os.path.join(path)):\r\n",
        "        os.makedirs(os.path.join(path))\r\n",
        "\r\n",
        "\r\n",
        "make_folder(folder_save)\r\n",
        "\r\n",
        "for k in range(img_num):\r\n",
        "    # The masks are divided into folders from 0 to 14 therefore this step is to extract the folder number\r\n",
        "    folder_num = k // 2000\r\n",
        "\r\n",
        "    # empty image of size 512x512\r\n",
        "    im_base = np.zeros((512, 512))\r\n",
        "\r\n",
        "    # make sure that an empty mask image isn't included\r\n",
        "    is_empty = True\r\n",
        "\r\n",
        "    for idx, label in enumerate(label_list):\r\n",
        "        # depends on the file format CelebAMask-HQ authors chose\r\n",
        "        filename = os.path.join(folder_base, str(folder_num), str(\r\n",
        "            k).rjust(5, '0') + '_' + label + '.png')\r\n",
        "\r\n",
        "        if os.path.exists(filename.strip(' ')):\r\n",
        "            is_empty = False   # means our mask isn't empty\r\n",
        "            im = cv2.imread(filename)\r\n",
        "            im = im[:, :, 0]\r\n",
        "            im_base[im != 0] = 255\r\n",
        "\r\n",
        "    if not is_empty:\r\n",
        "        # save as an image\r\n",
        "        filename_save = os.path.join(folder_save, str(k) + '.png')\r\n",
        "        print(filename_save)\r\n",
        "        cv2.imwrite(filename_save, im_base)\r\n",
        "\r\n",
        "```"
      ]
    },
    {
      "cell_type": "markdown",
      "metadata": {
        "id": "DRpEsYKrlNzK"
      },
      "source": [
        "### Mounting Google Drive to Access Dataset "
      ]
    },
    {
      "cell_type": "code",
      "metadata": {
        "colab": {
          "base_uri": "https://localhost:8080/"
        },
        "id": "mQqhodVGlJ78",
        "outputId": "4c62ca20-e2ee-457e-81e1-cfbff321c3ce"
      },
      "source": [
        "from google.colab import drive\r\n",
        "drive.mount('/gdrive')\r\n",
        "%cd /gdrive"
      ],
      "execution_count": null,
      "outputs": [
        {
          "output_type": "stream",
          "text": [
            "Mounted at /gdrive\n",
            "/gdrive\n"
          ],
          "name": "stdout"
        }
      ]
    },
    {
      "cell_type": "code",
      "metadata": {
        "id": "Z5EIXLDTvRwP"
      },
      "source": [
        "os.chdir('/gdrive/MyDrive/CelebAMask-HQ-Dataset/CelebAMask-HQ')"
      ],
      "execution_count": null,
      "outputs": []
    },
    {
      "cell_type": "markdown",
      "metadata": {
        "id": "TrTjzz_Uo8HV"
      },
      "source": [
        "### Data Augmentation"
      ]
    },
    {
      "cell_type": "markdown",
      "metadata": {
        "id": "sqRZOg_2dLTG"
      },
      "source": [
        "For both image and mask, we resize the original 512 by 512 image to 256 by 256 and then take a center crop for the eyes and lips will most probably be centrally located. Then we convert them to tensor and normalize the images by applying imagenet stats since our model was also pretrained on ImageNet."
      ]
    },
    {
      "cell_type": "code",
      "metadata": {
        "id": "HVI9M9zZmiov"
      },
      "source": [
        "image_transform = transforms.Compose([transforms.Resize((256, 256), 2),\r\n",
        "                                      transforms.CenterCrop(224),\r\n",
        "                                      transforms.ToTensor(),\r\n",
        "                                      transforms.Normalize(mean=[0.485, 0.456, 0.406], std=[0.229, 0.224, 0.225])]) # imagenet stats\r\n",
        "        \r\n",
        "mask_transform = transforms.Compose([transforms.Resize((256, 256), 2),\r\n",
        "                                    transforms.CenterCrop(224),\r\n",
        "                                    transforms.ToTensor()])"
      ],
      "execution_count": null,
      "outputs": []
    },
    {
      "cell_type": "markdown",
      "metadata": {
        "id": "dCLEHZnxlYtx"
      },
      "source": [
        "The image and mask folders are separated so we extract the list of images in the masks folder, sort them and then make another image list in which we alter the path to represent inputs so we get the correct image corresponding to a mask.\r\n",
        "For each image, mask pair -\r\n",
        "1. The image is converted to RGB and respective augementations are applied to it.\r\n",
        "2. The mask is converted to a single L channel, to be interpreted as grayscale and respective augementations are applied to it.\r\n",
        "3. We then obtain, two images from our mask. One which is the original mask and other in which every pixel is reversed (just the opposite).\r\n",
        "4. We superimpose these two images to form two channels (image shape : 224x224x2), which is what our model will be predicting."
      ]
    },
    {
      "cell_type": "markdown",
      "metadata": {
        "id": "e1Nw3QG3lV9z"
      },
      "source": [
        "### Custom Dataset"
      ]
    },
    {
      "cell_type": "code",
      "metadata": {
        "id": "kYOU8UKDnOQ8"
      },
      "source": [
        "class CelebAHQ(Dataset):\r\n",
        "    def __init__(self, parent_dir, image_dir, mask_dir, image_transform, mask_transform):\r\n",
        "\r\n",
        "        self.mask_list = glob.glob(parent_dir+'/'+mask_dir+'/*')\r\n",
        "        self.mask_list.sort()\r\n",
        "        self.image_list = []\r\n",
        "\r\n",
        "        # an image exists for every mask\r\n",
        "        for path in self.mask_list:\r\n",
        "            self.image_list.append(path.replace('.png', '.jpg').replace(mask_dir, image_dir))\r\n",
        "        self.mask_list = self.mask_list\r\n",
        "\r\n",
        "        self.image_transform = image_transform\r\n",
        "        self.mask_transform = mask_transform\r\n",
        "                \r\n",
        "    def __len__(self):\r\n",
        "        return len(self.image_list)\r\n",
        "\r\n",
        "    def __getitem__(self, index):\r\n",
        "        img = Image.open(self.image_list[index]).convert('RGB')\r\n",
        "        img = image_transform(img)\r\n",
        "        \r\n",
        "        mask = Image.open(self.mask_list[index]).convert('L')\r\n",
        "        mask_present = mask_transform(mask)\r\n",
        "\r\n",
        "        mask_present = mask_present.type(torch.BoolTensor)\r\n",
        "        mask_not_present = torch.bitwise_not(mask_present)\r\n",
        "        mask = torch.cat([mask_not_present, mask_present], dim=0)\r\n",
        "        \r\n",
        "        return img, mask"
      ],
      "execution_count": null,
      "outputs": []
    },
    {
      "cell_type": "code",
      "metadata": {
        "id": "rS-gDIMKuR6P"
      },
      "source": [
        "# change path according to your need\r\n",
        "dataset = CelebAHQ('.', 'CelebA-HQ-img', 'CelebAMaskHQ-mask', image_transform, mask_transform)"
      ],
      "execution_count": null,
      "outputs": []
    },
    {
      "cell_type": "code",
      "metadata": {
        "colab": {
          "base_uri": "https://localhost:8080/"
        },
        "id": "IH-JsP7G7b-b",
        "outputId": "7ad0c4c9-5409-43ef-aa41-297974e4540f"
      },
      "source": [
        "len(dataset)"
      ],
      "execution_count": null,
      "outputs": [
        {
          "output_type": "execute_result",
          "data": {
            "text/plain": [
              "29994"
            ]
          },
          "metadata": {
            "tags": []
          },
          "execution_count": 9
        }
      ]
    },
    {
      "cell_type": "markdown",
      "metadata": {
        "id": "BLFcqUTl-whz"
      },
      "source": [
        "## Splitting the dataset\r\n",
        "\r\n",
        "The train, validation, test ratios are 0.8, 0.1 and 0.1 of the whole dataset. A batch size of 40 was chosen after experiments with the GPU. Then we make dataloaders for train, test and validation datasets."
      ]
    },
    {
      "cell_type": "code",
      "metadata": {
        "id": "r7YNXoEWyFyo"
      },
      "source": [
        "def train_val_test_split(dataset):\r\n",
        "    train_dataset = torch.utils.data.Subset(dataset, range(0, int(0.8 * len(dataset))))\r\n",
        "    val_dataset = torch.utils.data.Subset(dataset, range(int(0.8*len(dataset)), int(0.9*len(dataset))))\r\n",
        "    test_dataset = torch.utils.data.Subset(dataset, range(int(0.9*len(dataset)), len(dataset)))\r\n",
        "    return train_dataset, val_dataset, test_dataset"
      ],
      "execution_count": null,
      "outputs": []
    },
    {
      "cell_type": "code",
      "metadata": {
        "id": "zaiZSnNev2Z5"
      },
      "source": [
        "batch_size = 40\r\n",
        "train_dataset, val_dataset, test_dataset = train_val_test_split(dataset)\r\n",
        "train_loader = DataLoader(train_dataset, batch_size = batch_size, shuffle=True, drop_last=True, num_workers=4, pin_memory=True)\r\n",
        "val_loader = DataLoader(val_dataset, batch_size = batch_size, drop_last=True, num_workers=4, pin_memory=True)\r\n",
        "test_loader = DataLoader(test_dataset, batch_size = batch_size, drop_last=True, num_workers=4, pin_memory=True)"
      ],
      "execution_count": null,
      "outputs": []
    },
    {
      "cell_type": "markdown",
      "metadata": {
        "id": "gXdATQ1w0IUO"
      },
      "source": [
        "## Using a GPU"
      ]
    },
    {
      "cell_type": "code",
      "metadata": {
        "id": "KMSpFWXE0bv5"
      },
      "source": [
        "device = torch.device('cuda') if torch.cuda.is_available() else torch.device('cpu')\r\n",
        "\r\n",
        "def to_device(data, device):\r\n",
        "  if isinstance(data, (list, tuple)):\r\n",
        "    return [to_device(x, device) for x in data]\r\n",
        "  return data.to(device, non_blocking = True)\r\n",
        "\r\n",
        "class DeviceDataLoader():\r\n",
        "    # Wrap a dataloader to move data to a device\r\n",
        "    def __init__(self, dl, device):\r\n",
        "        self.dl = dl\r\n",
        "        self.device = device\r\n",
        "        \r\n",
        "    def __iter__(self):\r\n",
        "    # Yield a batch of data after moving it to device\r\n",
        "        for b in self.dl: \r\n",
        "            yield to_device(b, self.device)\r\n",
        "\r\n",
        "    def __len__(self):\r\n",
        "        return len(self.dl)"
      ],
      "execution_count": null,
      "outputs": []
    },
    {
      "cell_type": "code",
      "metadata": {
        "id": "ilKGSGwC0kRs"
      },
      "source": [
        "train_loader = DeviceDataLoader(train_loader, device)\r\n",
        "val_loader = DeviceDataLoader(val_loader, device)\r\n",
        "test_loader = DeviceDataLoader(test_loader, device)"
      ],
      "execution_count": null,
      "outputs": []
    },
    {
      "cell_type": "markdown",
      "metadata": {
        "id": "VjOYemhTztri"
      },
      "source": [
        "## Evaluation Metrics"
      ]
    },
    {
      "cell_type": "markdown",
      "metadata": {
        "id": "N1hTmyDI35PX"
      },
      "source": [
        "1. Intersection over Union (Jaccard index) is a standard and reliable metric for segmentation tasks. It is the area of overlap between the predicted segmentation and the ground truth divided by the area of union between the predicted segmentation and the ground truth.\r\n",
        "\r\n",
        "![image.png](data:image/png;base64,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)\r\n",
        "\r\n",
        "2. Pixel Accuracy is also used to show a contrast with IOU as our positive and negative classes are imbalanced."
      ]
    },
    {
      "cell_type": "code",
      "metadata": {
        "id": "tnWf_YMWz3Kr"
      },
      "source": [
        "def mean_IOU(target, predicted): \r\n",
        "    iousum = 0\r\n",
        "    for i in range(target.shape[0]):\r\n",
        "        target_arr = target[i, :, :, :].clone().detach().cpu().numpy().argmax(0)\r\n",
        "        predicted_arr = predicted[i, :, :, :].clone().detach().cpu().numpy().argmax(0)\r\n",
        "        \r\n",
        "        intersection = np.logical_and(target_arr, predicted_arr).sum()\r\n",
        "        union = np.logical_or(target_arr, predicted_arr).sum()\r\n",
        "        if union == 0:\r\n",
        "            iou_score = 0\r\n",
        "        else :\r\n",
        "            iou_score = intersection / union\r\n",
        "        iousum +=iou_score\r\n",
        "        \r\n",
        "    miou = iousum/target.shape[0]\r\n",
        "    return miou"
      ],
      "execution_count": null,
      "outputs": []
    },
    {
      "cell_type": "code",
      "metadata": {
        "id": "GSCUIm8z0Bu2"
      },
      "source": [
        "def pixel_acc(target, predicted):     \r\n",
        "    accsum=0\r\n",
        "    for i in range(target.shape[0]):\r\n",
        "        target_arr = target[i, :, :, :].clone().detach().cpu().numpy().argmax(0)\r\n",
        "        predicted_arr = predicted[i, :, :, :].clone().detach().cpu().numpy().argmax(0)\r\n",
        "        \r\n",
        "        same = (target_arr == predicted_arr).sum()\r\n",
        "        a, b = target_arr.shape\r\n",
        "        total = a*b\r\n",
        "        accsum += same/total\r\n",
        "    \r\n",
        "    pixel_accuracy = accsum/target.shape[0]        \r\n",
        "    return pixel_accuracy"
      ],
      "execution_count": null,
      "outputs": []
    },
    {
      "cell_type": "markdown",
      "metadata": {
        "id": "wmYWDdiqzqzk"
      },
      "source": [
        "## Model"
      ]
    },
    {
      "cell_type": "markdown",
      "metadata": {
        "id": "TCf80Lj3zoRx"
      },
      "source": [
        "Encoder Decoder achitechture aka DeepLabv3 with a ResNet backbone was made for segmentation tasks. We are going to train a pretrained DeepLabv3 model with a ResNet50 backbone and fine tuning to output our segmented image."
      ]
    },
    {
      "cell_type": "code",
      "metadata": {
        "id": "gUgHlU3r0Tp4"
      },
      "source": [
        "class DeepLabv3(nn.Module):\r\n",
        "    def __init__(self):\r\n",
        "        super(DeepLabv3, self).__init__()\r\n",
        "        self.deep_lab_v3 = models.segmentation.deeplabv3_resnet50(pretrained=0, \r\n",
        "                                                 progress=1)\r\n",
        "        \r\n",
        "        # two classes will be our output since our mask image (224x224x2) has two channels\r\n",
        "        self.deep_lab_v3.classifier = DeepLabHead(2048, 2)\r\n",
        "        \r\n",
        "    def forward(self, input):\r\n",
        "        output = self.deep_lab_v3(input)['out']\r\n",
        "        return output"
      ],
      "execution_count": null,
      "outputs": []
    },
    {
      "cell_type": "code",
      "metadata": {
        "colab": {
          "base_uri": "https://localhost:8080/"
        },
        "id": "axWNu-is1ijV",
        "outputId": "44523f4e-b9ee-485e-ba37-6b53cf765158"
      },
      "source": [
        "model = DeepLabv3()\r\n",
        "to_device(model, device)"
      ],
      "execution_count": null,
      "outputs": [
        {
          "output_type": "execute_result",
          "data": {
            "text/plain": [
              "DeepLabv3(\n",
              "  (deep_lab_v3): DeepLabV3(\n",
              "    (backbone): IntermediateLayerGetter(\n",
              "      (conv1): Conv2d(3, 64, kernel_size=(7, 7), stride=(2, 2), padding=(3, 3), bias=False)\n",
              "      (bn1): BatchNorm2d(64, eps=1e-05, momentum=0.1, affine=True, track_running_stats=True)\n",
              "      (relu): ReLU(inplace=True)\n",
              "      (maxpool): MaxPool2d(kernel_size=3, stride=2, padding=1, dilation=1, ceil_mode=False)\n",
              "      (layer1): Sequential(\n",
              "        (0): Bottleneck(\n",
              "          (conv1): Conv2d(64, 64, kernel_size=(1, 1), stride=(1, 1), bias=False)\n",
              "          (bn1): BatchNorm2d(64, eps=1e-05, momentum=0.1, affine=True, track_running_stats=True)\n",
              "          (conv2): Conv2d(64, 64, kernel_size=(3, 3), stride=(1, 1), padding=(1, 1), bias=False)\n",
              "          (bn2): BatchNorm2d(64, eps=1e-05, momentum=0.1, affine=True, track_running_stats=True)\n",
              "          (conv3): Conv2d(64, 256, kernel_size=(1, 1), stride=(1, 1), bias=False)\n",
              "          (bn3): BatchNorm2d(256, eps=1e-05, momentum=0.1, affine=True, track_running_stats=True)\n",
              "          (relu): ReLU(inplace=True)\n",
              "          (downsample): Sequential(\n",
              "            (0): Conv2d(64, 256, kernel_size=(1, 1), stride=(1, 1), bias=False)\n",
              "            (1): BatchNorm2d(256, eps=1e-05, momentum=0.1, affine=True, track_running_stats=True)\n",
              "          )\n",
              "        )\n",
              "        (1): Bottleneck(\n",
              "          (conv1): Conv2d(256, 64, kernel_size=(1, 1), stride=(1, 1), bias=False)\n",
              "          (bn1): BatchNorm2d(64, eps=1e-05, momentum=0.1, affine=True, track_running_stats=True)\n",
              "          (conv2): Conv2d(64, 64, kernel_size=(3, 3), stride=(1, 1), padding=(1, 1), bias=False)\n",
              "          (bn2): BatchNorm2d(64, eps=1e-05, momentum=0.1, affine=True, track_running_stats=True)\n",
              "          (conv3): Conv2d(64, 256, kernel_size=(1, 1), stride=(1, 1), bias=False)\n",
              "          (bn3): BatchNorm2d(256, eps=1e-05, momentum=0.1, affine=True, track_running_stats=True)\n",
              "          (relu): ReLU(inplace=True)\n",
              "        )\n",
              "        (2): Bottleneck(\n",
              "          (conv1): Conv2d(256, 64, kernel_size=(1, 1), stride=(1, 1), bias=False)\n",
              "          (bn1): BatchNorm2d(64, eps=1e-05, momentum=0.1, affine=True, track_running_stats=True)\n",
              "          (conv2): Conv2d(64, 64, kernel_size=(3, 3), stride=(1, 1), padding=(1, 1), bias=False)\n",
              "          (bn2): BatchNorm2d(64, eps=1e-05, momentum=0.1, affine=True, track_running_stats=True)\n",
              "          (conv3): Conv2d(64, 256, kernel_size=(1, 1), stride=(1, 1), bias=False)\n",
              "          (bn3): BatchNorm2d(256, eps=1e-05, momentum=0.1, affine=True, track_running_stats=True)\n",
              "          (relu): ReLU(inplace=True)\n",
              "        )\n",
              "      )\n",
              "      (layer2): Sequential(\n",
              "        (0): Bottleneck(\n",
              "          (conv1): Conv2d(256, 128, kernel_size=(1, 1), stride=(1, 1), bias=False)\n",
              "          (bn1): BatchNorm2d(128, eps=1e-05, momentum=0.1, affine=True, track_running_stats=True)\n",
              "          (conv2): Conv2d(128, 128, kernel_size=(3, 3), stride=(2, 2), padding=(1, 1), bias=False)\n",
              "          (bn2): BatchNorm2d(128, eps=1e-05, momentum=0.1, affine=True, track_running_stats=True)\n",
              "          (conv3): Conv2d(128, 512, kernel_size=(1, 1), stride=(1, 1), bias=False)\n",
              "          (bn3): BatchNorm2d(512, eps=1e-05, momentum=0.1, affine=True, track_running_stats=True)\n",
              "          (relu): ReLU(inplace=True)\n",
              "          (downsample): Sequential(\n",
              "            (0): Conv2d(256, 512, kernel_size=(1, 1), stride=(2, 2), bias=False)\n",
              "            (1): BatchNorm2d(512, eps=1e-05, momentum=0.1, affine=True, track_running_stats=True)\n",
              "          )\n",
              "        )\n",
              "        (1): Bottleneck(\n",
              "          (conv1): Conv2d(512, 128, kernel_size=(1, 1), stride=(1, 1), bias=False)\n",
              "          (bn1): BatchNorm2d(128, eps=1e-05, momentum=0.1, affine=True, track_running_stats=True)\n",
              "          (conv2): Conv2d(128, 128, kernel_size=(3, 3), stride=(1, 1), padding=(1, 1), bias=False)\n",
              "          (bn2): BatchNorm2d(128, eps=1e-05, momentum=0.1, affine=True, track_running_stats=True)\n",
              "          (conv3): Conv2d(128, 512, kernel_size=(1, 1), stride=(1, 1), bias=False)\n",
              "          (bn3): BatchNorm2d(512, eps=1e-05, momentum=0.1, affine=True, track_running_stats=True)\n",
              "          (relu): ReLU(inplace=True)\n",
              "        )\n",
              "        (2): Bottleneck(\n",
              "          (conv1): Conv2d(512, 128, kernel_size=(1, 1), stride=(1, 1), bias=False)\n",
              "          (bn1): BatchNorm2d(128, eps=1e-05, momentum=0.1, affine=True, track_running_stats=True)\n",
              "          (conv2): Conv2d(128, 128, kernel_size=(3, 3), stride=(1, 1), padding=(1, 1), bias=False)\n",
              "          (bn2): BatchNorm2d(128, eps=1e-05, momentum=0.1, affine=True, track_running_stats=True)\n",
              "          (conv3): Conv2d(128, 512, kernel_size=(1, 1), stride=(1, 1), bias=False)\n",
              "          (bn3): BatchNorm2d(512, eps=1e-05, momentum=0.1, affine=True, track_running_stats=True)\n",
              "          (relu): ReLU(inplace=True)\n",
              "        )\n",
              "        (3): Bottleneck(\n",
              "          (conv1): Conv2d(512, 128, kernel_size=(1, 1), stride=(1, 1), bias=False)\n",
              "          (bn1): BatchNorm2d(128, eps=1e-05, momentum=0.1, affine=True, track_running_stats=True)\n",
              "          (conv2): Conv2d(128, 128, kernel_size=(3, 3), stride=(1, 1), padding=(1, 1), bias=False)\n",
              "          (bn2): BatchNorm2d(128, eps=1e-05, momentum=0.1, affine=True, track_running_stats=True)\n",
              "          (conv3): Conv2d(128, 512, kernel_size=(1, 1), stride=(1, 1), bias=False)\n",
              "          (bn3): BatchNorm2d(512, eps=1e-05, momentum=0.1, affine=True, track_running_stats=True)\n",
              "          (relu): ReLU(inplace=True)\n",
              "        )\n",
              "      )\n",
              "      (layer3): Sequential(\n",
              "        (0): Bottleneck(\n",
              "          (conv1): Conv2d(512, 256, kernel_size=(1, 1), stride=(1, 1), bias=False)\n",
              "          (bn1): BatchNorm2d(256, eps=1e-05, momentum=0.1, affine=True, track_running_stats=True)\n",
              "          (conv2): Conv2d(256, 256, kernel_size=(3, 3), stride=(1, 1), padding=(1, 1), bias=False)\n",
              "          (bn2): BatchNorm2d(256, eps=1e-05, momentum=0.1, affine=True, track_running_stats=True)\n",
              "          (conv3): Conv2d(256, 1024, kernel_size=(1, 1), stride=(1, 1), bias=False)\n",
              "          (bn3): BatchNorm2d(1024, eps=1e-05, momentum=0.1, affine=True, track_running_stats=True)\n",
              "          (relu): ReLU(inplace=True)\n",
              "          (downsample): Sequential(\n",
              "            (0): Conv2d(512, 1024, kernel_size=(1, 1), stride=(1, 1), bias=False)\n",
              "            (1): BatchNorm2d(1024, eps=1e-05, momentum=0.1, affine=True, track_running_stats=True)\n",
              "          )\n",
              "        )\n",
              "        (1): Bottleneck(\n",
              "          (conv1): Conv2d(1024, 256, kernel_size=(1, 1), stride=(1, 1), bias=False)\n",
              "          (bn1): BatchNorm2d(256, eps=1e-05, momentum=0.1, affine=True, track_running_stats=True)\n",
              "          (conv2): Conv2d(256, 256, kernel_size=(3, 3), stride=(1, 1), padding=(2, 2), dilation=(2, 2), bias=False)\n",
              "          (bn2): BatchNorm2d(256, eps=1e-05, momentum=0.1, affine=True, track_running_stats=True)\n",
              "          (conv3): Conv2d(256, 1024, kernel_size=(1, 1), stride=(1, 1), bias=False)\n",
              "          (bn3): BatchNorm2d(1024, eps=1e-05, momentum=0.1, affine=True, track_running_stats=True)\n",
              "          (relu): ReLU(inplace=True)\n",
              "        )\n",
              "        (2): Bottleneck(\n",
              "          (conv1): Conv2d(1024, 256, kernel_size=(1, 1), stride=(1, 1), bias=False)\n",
              "          (bn1): BatchNorm2d(256, eps=1e-05, momentum=0.1, affine=True, track_running_stats=True)\n",
              "          (conv2): Conv2d(256, 256, kernel_size=(3, 3), stride=(1, 1), padding=(2, 2), dilation=(2, 2), bias=False)\n",
              "          (bn2): BatchNorm2d(256, eps=1e-05, momentum=0.1, affine=True, track_running_stats=True)\n",
              "          (conv3): Conv2d(256, 1024, kernel_size=(1, 1), stride=(1, 1), bias=False)\n",
              "          (bn3): BatchNorm2d(1024, eps=1e-05, momentum=0.1, affine=True, track_running_stats=True)\n",
              "          (relu): ReLU(inplace=True)\n",
              "        )\n",
              "        (3): Bottleneck(\n",
              "          (conv1): Conv2d(1024, 256, kernel_size=(1, 1), stride=(1, 1), bias=False)\n",
              "          (bn1): BatchNorm2d(256, eps=1e-05, momentum=0.1, affine=True, track_running_stats=True)\n",
              "          (conv2): Conv2d(256, 256, kernel_size=(3, 3), stride=(1, 1), padding=(2, 2), dilation=(2, 2), bias=False)\n",
              "          (bn2): BatchNorm2d(256, eps=1e-05, momentum=0.1, affine=True, track_running_stats=True)\n",
              "          (conv3): Conv2d(256, 1024, kernel_size=(1, 1), stride=(1, 1), bias=False)\n",
              "          (bn3): BatchNorm2d(1024, eps=1e-05, momentum=0.1, affine=True, track_running_stats=True)\n",
              "          (relu): ReLU(inplace=True)\n",
              "        )\n",
              "        (4): Bottleneck(\n",
              "          (conv1): Conv2d(1024, 256, kernel_size=(1, 1), stride=(1, 1), bias=False)\n",
              "          (bn1): BatchNorm2d(256, eps=1e-05, momentum=0.1, affine=True, track_running_stats=True)\n",
              "          (conv2): Conv2d(256, 256, kernel_size=(3, 3), stride=(1, 1), padding=(2, 2), dilation=(2, 2), bias=False)\n",
              "          (bn2): BatchNorm2d(256, eps=1e-05, momentum=0.1, affine=True, track_running_stats=True)\n",
              "          (conv3): Conv2d(256, 1024, kernel_size=(1, 1), stride=(1, 1), bias=False)\n",
              "          (bn3): BatchNorm2d(1024, eps=1e-05, momentum=0.1, affine=True, track_running_stats=True)\n",
              "          (relu): ReLU(inplace=True)\n",
              "        )\n",
              "        (5): Bottleneck(\n",
              "          (conv1): Conv2d(1024, 256, kernel_size=(1, 1), stride=(1, 1), bias=False)\n",
              "          (bn1): BatchNorm2d(256, eps=1e-05, momentum=0.1, affine=True, track_running_stats=True)\n",
              "          (conv2): Conv2d(256, 256, kernel_size=(3, 3), stride=(1, 1), padding=(2, 2), dilation=(2, 2), bias=False)\n",
              "          (bn2): BatchNorm2d(256, eps=1e-05, momentum=0.1, affine=True, track_running_stats=True)\n",
              "          (conv3): Conv2d(256, 1024, kernel_size=(1, 1), stride=(1, 1), bias=False)\n",
              "          (bn3): BatchNorm2d(1024, eps=1e-05, momentum=0.1, affine=True, track_running_stats=True)\n",
              "          (relu): ReLU(inplace=True)\n",
              "        )\n",
              "      )\n",
              "      (layer4): Sequential(\n",
              "        (0): Bottleneck(\n",
              "          (conv1): Conv2d(1024, 512, kernel_size=(1, 1), stride=(1, 1), bias=False)\n",
              "          (bn1): BatchNorm2d(512, eps=1e-05, momentum=0.1, affine=True, track_running_stats=True)\n",
              "          (conv2): Conv2d(512, 512, kernel_size=(3, 3), stride=(1, 1), padding=(2, 2), dilation=(2, 2), bias=False)\n",
              "          (bn2): BatchNorm2d(512, eps=1e-05, momentum=0.1, affine=True, track_running_stats=True)\n",
              "          (conv3): Conv2d(512, 2048, kernel_size=(1, 1), stride=(1, 1), bias=False)\n",
              "          (bn3): BatchNorm2d(2048, eps=1e-05, momentum=0.1, affine=True, track_running_stats=True)\n",
              "          (relu): ReLU(inplace=True)\n",
              "          (downsample): Sequential(\n",
              "            (0): Conv2d(1024, 2048, kernel_size=(1, 1), stride=(1, 1), bias=False)\n",
              "            (1): BatchNorm2d(2048, eps=1e-05, momentum=0.1, affine=True, track_running_stats=True)\n",
              "          )\n",
              "        )\n",
              "        (1): Bottleneck(\n",
              "          (conv1): Conv2d(2048, 512, kernel_size=(1, 1), stride=(1, 1), bias=False)\n",
              "          (bn1): BatchNorm2d(512, eps=1e-05, momentum=0.1, affine=True, track_running_stats=True)\n",
              "          (conv2): Conv2d(512, 512, kernel_size=(3, 3), stride=(1, 1), padding=(4, 4), dilation=(4, 4), bias=False)\n",
              "          (bn2): BatchNorm2d(512, eps=1e-05, momentum=0.1, affine=True, track_running_stats=True)\n",
              "          (conv3): Conv2d(512, 2048, kernel_size=(1, 1), stride=(1, 1), bias=False)\n",
              "          (bn3): BatchNorm2d(2048, eps=1e-05, momentum=0.1, affine=True, track_running_stats=True)\n",
              "          (relu): ReLU(inplace=True)\n",
              "        )\n",
              "        (2): Bottleneck(\n",
              "          (conv1): Conv2d(2048, 512, kernel_size=(1, 1), stride=(1, 1), bias=False)\n",
              "          (bn1): BatchNorm2d(512, eps=1e-05, momentum=0.1, affine=True, track_running_stats=True)\n",
              "          (conv2): Conv2d(512, 512, kernel_size=(3, 3), stride=(1, 1), padding=(4, 4), dilation=(4, 4), bias=False)\n",
              "          (bn2): BatchNorm2d(512, eps=1e-05, momentum=0.1, affine=True, track_running_stats=True)\n",
              "          (conv3): Conv2d(512, 2048, kernel_size=(1, 1), stride=(1, 1), bias=False)\n",
              "          (bn3): BatchNorm2d(2048, eps=1e-05, momentum=0.1, affine=True, track_running_stats=True)\n",
              "          (relu): ReLU(inplace=True)\n",
              "        )\n",
              "      )\n",
              "    )\n",
              "    (classifier): DeepLabHead(\n",
              "      (0): ASPP(\n",
              "        (convs): ModuleList(\n",
              "          (0): Sequential(\n",
              "            (0): Conv2d(2048, 256, kernel_size=(1, 1), stride=(1, 1), bias=False)\n",
              "            (1): BatchNorm2d(256, eps=1e-05, momentum=0.1, affine=True, track_running_stats=True)\n",
              "            (2): ReLU()\n",
              "          )\n",
              "          (1): ASPPConv(\n",
              "            (0): Conv2d(2048, 256, kernel_size=(3, 3), stride=(1, 1), padding=(12, 12), dilation=(12, 12), bias=False)\n",
              "            (1): BatchNorm2d(256, eps=1e-05, momentum=0.1, affine=True, track_running_stats=True)\n",
              "            (2): ReLU()\n",
              "          )\n",
              "          (2): ASPPConv(\n",
              "            (0): Conv2d(2048, 256, kernel_size=(3, 3), stride=(1, 1), padding=(24, 24), dilation=(24, 24), bias=False)\n",
              "            (1): BatchNorm2d(256, eps=1e-05, momentum=0.1, affine=True, track_running_stats=True)\n",
              "            (2): ReLU()\n",
              "          )\n",
              "          (3): ASPPConv(\n",
              "            (0): Conv2d(2048, 256, kernel_size=(3, 3), stride=(1, 1), padding=(36, 36), dilation=(36, 36), bias=False)\n",
              "            (1): BatchNorm2d(256, eps=1e-05, momentum=0.1, affine=True, track_running_stats=True)\n",
              "            (2): ReLU()\n",
              "          )\n",
              "          (4): ASPPPooling(\n",
              "            (0): AdaptiveAvgPool2d(output_size=1)\n",
              "            (1): Conv2d(2048, 256, kernel_size=(1, 1), stride=(1, 1), bias=False)\n",
              "            (2): BatchNorm2d(256, eps=1e-05, momentum=0.1, affine=True, track_running_stats=True)\n",
              "            (3): ReLU()\n",
              "          )\n",
              "        )\n",
              "        (project): Sequential(\n",
              "          (0): Conv2d(1280, 256, kernel_size=(1, 1), stride=(1, 1), bias=False)\n",
              "          (1): BatchNorm2d(256, eps=1e-05, momentum=0.1, affine=True, track_running_stats=True)\n",
              "          (2): ReLU()\n",
              "          (3): Dropout(p=0.5, inplace=False)\n",
              "        )\n",
              "      )\n",
              "      (1): Conv2d(256, 256, kernel_size=(3, 3), stride=(1, 1), padding=(1, 1), bias=False)\n",
              "      (2): BatchNorm2d(256, eps=1e-05, momentum=0.1, affine=True, track_running_stats=True)\n",
              "      (3): ReLU()\n",
              "      (4): Conv2d(256, 2, kernel_size=(1, 1), stride=(1, 1))\n",
              "    )\n",
              "  )\n",
              ")"
            ]
          },
          "metadata": {
            "tags": []
          },
          "execution_count": 23
        }
      ]
    },
    {
      "cell_type": "markdown",
      "metadata": {
        "id": "_q_0BtT-z-Ii"
      },
      "source": [
        "## Hyperparameters"
      ]
    },
    {
      "cell_type": "markdown",
      "metadata": {
        "id": "4RjrsUkB2yDe"
      },
      "source": [
        "1. Adam optimizer is one of the most commonly used optimizers used in context of image segmentation networks.\r\n",
        "2. Since we have black and white masks, a binary segmentation task, BCEWithLogitsLoss was the apporopriate loss function.\r\n",
        "3. An Exponential LR Schedular works as good as a step decay one, so I went with that.\r\n",
        "\r\n",
        "A lower learning rate was chosen as we have a pretrained model available and since the gradients wouldn't change that fast, we took different lower values of LR while training trying to converge."
      ]
    },
    {
      "cell_type": "code",
      "metadata": {
        "id": "xiakzxTp13JB"
      },
      "source": [
        "optimizer = torch.optim.Adam(model.parameters(), lr=0.0001)\r\n",
        "loss_fn = nn.BCEWithLogitsLoss()\r\n",
        "lr_scheduler = torch.optim.lr_scheduler.ExponentialLR(optimizer=optimizer, gamma=0.8)"
      ],
      "execution_count": null,
      "outputs": []
    },
    {
      "cell_type": "markdown",
      "metadata": {
        "id": "Dk5t4FAR0DYg"
      },
      "source": [
        "## Training loop"
      ]
    },
    {
      "cell_type": "markdown",
      "metadata": {
        "id": "6oe3BWpGPHpe"
      },
      "source": [
        "Checkpoints are used since a single epoch took considerable time and progress could easily be tracked using them. We just load a previous checkpoint if available else we train from from scratch. \r\n",
        "- Training Phase. For a batch in train_loader :\r\n",
        "\r\n",
        "  1. Generate predictions\r\n",
        "  2. Calculate loss\r\n",
        "  3. Compute gradients\r\n",
        "  4. Update weights\r\n",
        "  5. Reset gradients\r\n",
        "- Validation Phase. For batch in val_loader:\r\n",
        "\r\n",
        "  1. Generate predictions\r\n",
        "  2. Calculate loss\r\n",
        "  3. Calculate error metrics\r\n",
        "\r\n",
        "  After which we save the checkpoint file."
      ]
    },
    {
      "cell_type": "code",
      "metadata": {
        "id": "KEl1C9HC2CVn"
      },
      "source": [
        "def fit(epochs, optimizer, lr_scheduler, model, loss_fn, train_loader, val_loader, last_ckpt_path = None):   \r\n",
        "    tr_loss_arr = []\r\n",
        "    val_loss_arr = []\r\n",
        "    meanioutrain = []\r\n",
        "    pixelacctrain = []\r\n",
        "    meanioutest = []\r\n",
        "    pixelacctest = []\r\n",
        "    prev_epoch = 0\r\n",
        "    \r\n",
        "    if last_ckpt_path != None :\r\n",
        "        checkpoint = torch.load(last_ckpt_path)\r\n",
        "        prev_epoch = checkpoint['epoch']\r\n",
        "        model.load_state_dict(checkpoint['state_dict'])\r\n",
        "        optimizer.load_state_dict(checkpoint['optimizer_state_dict'])\r\n",
        "        for state in optimizer.state.values():\r\n",
        "            for k, v in state.items():\r\n",
        "                if isinstance(v, torch.Tensor):\r\n",
        "                    state[k] = to_device(v, device)\r\n",
        "                    tr_loss_arr =  checkpoint['Training Loss']\r\n",
        "        val_loss_arr =  checkpoint['Validation Loss']\r\n",
        "        meanioutrain =  checkpoint['MeanIOU train']\r\n",
        "        pixelacctrain =  checkpoint['PixelAcc train']\r\n",
        "        meanioutest =  checkpoint['MeanIOU test']\r\n",
        "        pixelacctest =  checkpoint['PixelAcc test']\r\n",
        "        to_device(model, device)\r\n",
        "    \r\n",
        "    for epoch in range(epochs):\r\n",
        "        model.train()\r\n",
        "        train_loss = 0.0\r\n",
        "        pixelacc = 0\r\n",
        "        meaniou = 0\r\n",
        "        \r\n",
        "        pbar = tqdm(train_loader, total = len(train_loader))\r\n",
        "        for input, mask in pbar:\r\n",
        "            torch.cuda.empty_cache()\r\n",
        "            model.train()\r\n",
        "            input = input.float()\r\n",
        "            mask = mask.float()\r\n",
        "            pred = model(input)\r\n",
        "            loss = loss_fn(pred, mask)\r\n",
        "            \r\n",
        "            optimizer.zero_grad()\r\n",
        "            loss.backward()\r\n",
        "            optimizer.step()\r\n",
        "            \r\n",
        "            tr_loss_arr.append(loss.item())\r\n",
        "            meanioutrain.append(mean_IOU(mask, pred))\r\n",
        "            pixelacctrain.append(pixel_acc(mask, pred))\r\n",
        "            pbar.set_postfix({'Epoch':epoch+1+prev_epoch, \r\n",
        "                              'Training Loss': np.mean(tr_loss_arr),\r\n",
        "                              'Mean IOU': np.mean(meanioutrain),\r\n",
        "                              'Pixel Acc': np.mean(pixelacctrain)})\r\n",
        "            \r\n",
        "        with torch.no_grad():\r\n",
        "            \r\n",
        "            val_loss = 0\r\n",
        "            pbar = tqdm(val_loader, total = len(val_loader))\r\n",
        "            for input, mask in pbar:\r\n",
        "                torch.cuda.empty_cache()\r\n",
        "                input = input.float()\r\n",
        "                mask = mask.float()\r\n",
        "                model.eval()\r\n",
        "                pred = model(input)\r\n",
        "                \r\n",
        "                val_loss_arr.append(loss_fn(pred, mask).item())\r\n",
        "                pixelacctest.append(pixel_acc(mask, pred))\r\n",
        "                meanioutest.append(mean_IOU(mask, pred))\r\n",
        "                \r\n",
        "                pbar.set_postfix({'Epoch':epoch+1+prev_epoch, \r\n",
        "                                  'Validation Loss': np.mean(val_loss_arr),\r\n",
        "                                  'Mean IOU': np.mean(meanioutest),\r\n",
        "                                  'Pixel Acc': np.mean(pixelacctest)\r\n",
        "                                 })\r\n",
        "        \r\n",
        "        checkpoint = {\r\n",
        "            'epoch':epoch+1+prev_epoch,\r\n",
        "            'state_dict': model.state_dict(),\r\n",
        "            'optimizer_state_dict': optimizer.state_dict(),\r\n",
        "            'Training Loss': tr_loss_arr,\r\n",
        "            'Validation Loss':val_loss_arr,\r\n",
        "            'MeanIOU train':meanioutrain, \r\n",
        "            'PixelAcc train':pixelacctrain, \r\n",
        "            'MeanIOU test':meanioutest, \r\n",
        "            'PixelAcc test':pixelacctest\r\n",
        "        }\r\n",
        "        torch.save(checkpoint, f\"{epoch+1+prev_epoch}.pth\")\r\n",
        "        lr_scheduler.step()\r\n",
        "        \r\n",
        "    return tr_loss_arr, val_loss_arr, meanioutrain, pixelacctrain, meanioutest, pixelacctest"
      ],
      "execution_count": null,
      "outputs": []
    },
    {
      "cell_type": "code",
      "metadata": {
        "id": "VrYeXV6j4mOH"
      },
      "source": [
        "# training from scratch\r\n",
        "\r\n",
        "retval = [fit(3, optimizer, lr_scheduler, model, loss_fn, train_loader, val_loader)]"
      ],
      "execution_count": null,
      "outputs": []
    },
    {
      "cell_type": "code",
      "metadata": {
        "colab": {
          "base_uri": "https://localhost:8080/",
          "height": 313,
          "referenced_widgets": [
            "e70b7996285547efac6880d075c104c7",
            "dc757a2e53634ab9bcafd2b5dc25cd97",
            "4d9f1d967265438a990d9f4dd22af770",
            "86d95fd222194a408586e2ed38fac07f",
            "01ede26576ab447fb8d82b743c897e5e",
            "3bd0fd9b425d411d9be4bfdbb4d4239f",
            "937c8d1c5f84458194fba67f6909f9d1",
            "87c8751f9060432484b702c953037ae1",
            "6aef050149a740298962ed3836b783ca",
            "03ee6e2dfac6451aa115162a36e3effb",
            "872e3017cccb4a679fd67acd72ff12ab",
            "af48c73f8bf14f5aa9316fa01a7694a5",
            "81bd170b6b4d41f682c96adf1da887d9",
            "abebc0ebdde444c79c19947ab365c023",
            "18769e6024934cf68f7706b67b2f585f",
            "810e7237b1464cc883d0328a239fe7f3",
            "64f11314e5074080a0dc57e5bf0b1928",
            "d72b4d84cf9b4e8c963c2ea4522a8159",
            "9555e414815141b1afbdbe25ab0a4a1f",
            "44dfefbe6b7b479697494e7d5c4bbc3c",
            "33c0981e8dc5430ca1986fade2d4552d",
            "c84a8a83b519472e89fcd1377f26a7b9",
            "2aa9486488d34865827fad2d0754343e",
            "bc6144cbfd414b08babd7cb5ddf9aba2",
            "5b8e4fc78c2e4f65aec6dee95a4185c5",
            "8d471cc869a34b43af3da055435c4919",
            "16b9937062084b47bca3cb4257cda37c",
            "dd913309b530476298d338562bb3c1de",
            "3caa942f4faf488982c4370f953438ea",
            "10fe33da9dc74726b9bafea69c71197f",
            "96439166f8db4231b44620f91e85d20e",
            "3c22a63243f84f428f867475b51c7ae3",
            "f393e42419714da59ab49abb36bd49f5",
            "34664a6f7d1c418e9a1e251dcf80f710",
            "7d78dd9e9a8c4cbfbbb423c52fecf291",
            "3ec691c737aa48a8a434c381a04c407d",
            "718193a297914515b13440cc9c798965",
            "e55d169cc81a44f4894369e7449635ee",
            "09a23a966760452f9518579de0ed3829",
            "86d7e27d25e240c8bfe80e6e67356ca0",
            "a37e674f2a804975a8367e7c94180cd3",
            "8b130f2573574fbca2cf806bc482f223",
            "38c300d1c62d4e1c84a98776ca4c6117",
            "6c3bfd3c36374221a27980935925d631",
            "71dc1e0ab38c4a90b1e85b1ab36537a4",
            "d0a2ab9a909d4121b944e15b4e18a168",
            "dfb7cd70358b4a6195d749252c4b587c",
            "cf7e3756a06b475bbdd0cb291fdde7d5"
          ]
        },
        "id": "kVzjguZbvO4R",
        "outputId": "6bdb9da9-d65e-4c17-d340-f2c1c1e67990"
      },
      "source": [
        "# training with our predefinied weights for previous checkpoints. set path accordingly\r\n",
        "\r\n",
        "retval += [fit(3, optimizer, lr_scheduler, model, loss_fn, train_loader, val_loader, 'model_deeplabv3.pth')]"
      ],
      "execution_count": null,
      "outputs": [
        {
          "output_type": "display_data",
          "data": {
            "application/vnd.jupyter.widget-view+json": {
              "model_id": "e70b7996285547efac6880d075c104c7",
              "version_minor": 0,
              "version_major": 2
            },
            "text/plain": [
              "HBox(children=(FloatProgress(value=0.0, max=97.0), HTML(value='')))"
            ]
          },
          "metadata": {
            "tags": []
          }
        },
        {
          "output_type": "stream",
          "text": [
            "\n"
          ],
          "name": "stdout"
        },
        {
          "output_type": "display_data",
          "data": {
            "application/vnd.jupyter.widget-view+json": {
              "model_id": "6aef050149a740298962ed3836b783ca",
              "version_minor": 0,
              "version_major": 2
            },
            "text/plain": [
              "HBox(children=(FloatProgress(value=0.0, max=12.0), HTML(value='')))"
            ]
          },
          "metadata": {
            "tags": []
          }
        },
        {
          "output_type": "stream",
          "text": [
            "\n"
          ],
          "name": "stdout"
        },
        {
          "output_type": "display_data",
          "data": {
            "application/vnd.jupyter.widget-view+json": {
              "model_id": "64f11314e5074080a0dc57e5bf0b1928",
              "version_minor": 0,
              "version_major": 2
            },
            "text/plain": [
              "HBox(children=(FloatProgress(value=0.0, max=97.0), HTML(value='')))"
            ]
          },
          "metadata": {
            "tags": []
          }
        },
        {
          "output_type": "stream",
          "text": [
            "\n"
          ],
          "name": "stdout"
        },
        {
          "output_type": "display_data",
          "data": {
            "application/vnd.jupyter.widget-view+json": {
              "model_id": "5b8e4fc78c2e4f65aec6dee95a4185c5",
              "version_minor": 0,
              "version_major": 2
            },
            "text/plain": [
              "HBox(children=(FloatProgress(value=0.0, max=12.0), HTML(value='')))"
            ]
          },
          "metadata": {
            "tags": []
          }
        },
        {
          "output_type": "stream",
          "text": [
            "\n"
          ],
          "name": "stdout"
        },
        {
          "output_type": "display_data",
          "data": {
            "application/vnd.jupyter.widget-view+json": {
              "model_id": "f393e42419714da59ab49abb36bd49f5",
              "version_minor": 0,
              "version_major": 2
            },
            "text/plain": [
              "HBox(children=(FloatProgress(value=0.0, max=97.0), HTML(value='')))"
            ]
          },
          "metadata": {
            "tags": []
          }
        },
        {
          "output_type": "stream",
          "text": [
            "\n"
          ],
          "name": "stdout"
        },
        {
          "output_type": "display_data",
          "data": {
            "application/vnd.jupyter.widget-view+json": {
              "model_id": "a37e674f2a804975a8367e7c94180cd3",
              "version_minor": 0,
              "version_major": 2
            },
            "text/plain": [
              "HBox(children=(FloatProgress(value=0.0, max=12.0), HTML(value='')))"
            ]
          },
          "metadata": {
            "tags": []
          }
        },
        {
          "output_type": "stream",
          "text": [
            "\n"
          ],
          "name": "stdout"
        }
      ]
    },
    {
      "cell_type": "markdown",
      "metadata": {
        "id": "rIFtRacvQ4T1"
      },
      "source": [
        "After training for 15 epochs, here is the inference."
      ]
    },
    {
      "cell_type": "markdown",
      "metadata": {
        "id": "h1PYkakAOd1H"
      },
      "source": [
        "## Testing the Model"
      ]
    },
    {
      "cell_type": "code",
      "metadata": {
        "id": "-wsbgWASwr4T"
      },
      "source": [
        "# Loading the model and weights and setting it in evaluation mode\r\n",
        "def load_checkpoint(path): \r\n",
        "    model = DeepLabv3()\r\n",
        "    checkpoint = torch.load(path)\r\n",
        "    model.load_state_dict(checkpoint['state_dict'])\r\n",
        "    model.eval()\r\n",
        "    return model"
      ],
      "execution_count": null,
      "outputs": []
    },
    {
      "cell_type": "code",
      "metadata": {
        "id": "vBWiegZ6wLMb"
      },
      "source": [
        "def get_prediction(path_img, path_model):\r\n",
        "    img = Image.open(path_img)\r\n",
        "    \r\n",
        "    transform = transforms.Compose([transforms.Resize((224, 224), 2),\r\n",
        "                                    transforms.ToTensor(),\r\n",
        "                                    transforms.Normalize(mean=[0.485, 0.456, 0.406], std=[0.229, 0.224, 0.225])]) # imagenet stats\r\n",
        "    input_img = transform(img)\r\n",
        "    \r\n",
        "    with torch.no_grad():\r\n",
        "        model = to_device(load_checkpoint(path_model), device)\r\n",
        "        input_img = to_device(input_img, device).float()\r\n",
        "        ytest = model(input_img.unsqueeze(0).float())\r\n",
        "        ypos = ytest[0, 1, :, :].clone().detach().cpu().numpy() # positive segmentation mask\r\n",
        "        yneg = ytest[0, 0, :, :].clone().detach().cpu().numpy() # negative segmentation mask\r\n",
        "        ytest = ypos >= yneg  # combining both\r\n",
        "    \r\n",
        "    mask = ytest.astype('float32')\r\n",
        "    kernel = cv2.getStructuringElement(cv2.MORPH_ELLIPSE,(5,5))\r\n",
        "    mask = cv2.dilate(mask,kernel,iterations = 2)\r\n",
        "    mask = cv2.morphologyEx(mask, cv2.MORPH_CLOSE, kernel)\r\n",
        "    mask = cv2.morphologyEx(mask, cv2.MORPH_OPEN, kernel)\r\n",
        "    return mask"
      ],
      "execution_count": null,
      "outputs": []
    },
    {
      "cell_type": "code",
      "metadata": {
        "id": "sHr7iclFwFJM"
      },
      "source": [
        "def get_mask_on_image(image, mask):\r\n",
        "    color_mask = np.zeros_like(image)\r\n",
        "    color_mask[:, :, 1] += mask.astype('uint8') * 250\r\n",
        "    masked = cv2.addWeighted(image, 0.5, color_mask, 0.5 ,0.0)\r\n",
        "    return masked"
      ],
      "execution_count": null,
      "outputs": []
    },
    {
      "cell_type": "code",
      "metadata": {
        "id": "9R-e3YsD5R2Y"
      },
      "source": [
        "def print_prediction(path_img,path_model):\r\n",
        "    img = cv2.imread(path_img)\r\n",
        "    img = cv2.resize(img, (224, 224))\r\n",
        "    rgb_img = cv2.cvtColor(img, cv2.COLOR_BGR2RGB)\r\n",
        "\r\n",
        "    mask = get_prediction(path_img, path_model)\r\n",
        "\r\n",
        "    mask_on_img = get_mask_on_image(rgb_img, mask)\r\n",
        "\r\n",
        "    fig = plt.figure()\r\n",
        "    a = fig.add_subplot(1,3,1)\r\n",
        "    imgplot = plt.imshow(rgb_img)\r\n",
        "    a.set_title('Input')\r\n",
        "    a = fig.add_subplot(1,3,2)\r\n",
        "    imgplot = plt.imshow(mask)\r\n",
        "    a.set_title('Output')\r\n",
        "    a = fig.add_subplot(1,3,3)\r\n",
        "    imgplot = plt.imshow(mask_on_img)\r\n",
        "    a.set_title('Output')"
      ],
      "execution_count": null,
      "outputs": []
    },
    {
      "cell_type": "code",
      "metadata": {
        "id": "gh_XAsH-AblD"
      },
      "source": [
        "@torch.no_grad()\r\n",
        "def get_test_score(test_loader):\r\n",
        "    val_loss = 0\r\n",
        "    val_loss_arr = []\r\n",
        "    pixelacctest = []\r\n",
        "    meanioutest = []\r\n",
        "    pbar = tqdm(val_loader, total = len(val_loader))\r\n",
        "    for input, mask in pbar:\r\n",
        "        torch.cuda.empty_cache()\r\n",
        "        input = input.float()\r\n",
        "        mask = mask.float()\r\n",
        "        model.eval()\r\n",
        "        pred = model(input)\r\n",
        "        \r\n",
        "        val_loss_arr.append(loss_fn(pred, mask).item())\r\n",
        "        pixelacctest.append(pixel_acc(mask, pred))\r\n",
        "        meanioutest.append(mean_IOU(mask, pred))\r\n",
        "        \r\n",
        "        pbar.set_postfix({'Validation Loss': np.mean(val_loss_arr),\r\n",
        "                          'Mean IOU': np.mean(meanioutest),\r\n",
        "                          'Pixel Acc': np.mean(pixelacctest)\r\n",
        "                          })"
      ],
      "execution_count": null,
      "outputs": []
    },
    {
      "cell_type": "markdown",
      "metadata": {
        "id": "g9HaWp9sRTVM"
      },
      "source": [
        "### Results on Unseen Data"
      ]
    },
    {
      "cell_type": "code",
      "metadata": {
        "colab": {
          "base_uri": "https://localhost:8080/",
          "height": 67,
          "referenced_widgets": [
            "3044576a4d7f4c249e2df405861e0d78",
            "15c6b54705b1441a9e0ceb2ae4a20095",
            "f0fbfbe767d44e2ba5a2432e56d36c1b",
            "7dce8f4eacef4a23a46b54a2f876a8e9",
            "360b73522e7543268880a0572238b1c6",
            "615e5fa9938443afa6d6c334129ab559",
            "eadb214f42ac43f9baf8d6ab917d0029",
            "5133872050884209b5801ee77894b83d"
          ]
        },
        "id": "-w4qib-e_iDy",
        "outputId": "752bf748-8740-4873-e0cc-7b6e7c8af9b6"
      },
      "source": [
        "model = to_device(load_checkpoint('/gdrive/MyDrive/CelebAMask-HQ-Dataset/CelebAMask-HQ/model.pth'), device)\r\n",
        "\r\n",
        "get_test_score(test_loader)"
      ],
      "execution_count": null,
      "outputs": [
        {
          "output_type": "display_data",
          "data": {
            "application/vnd.jupyter.widget-view+json": {
              "model_id": "3044576a4d7f4c249e2df405861e0d78",
              "version_minor": 0,
              "version_major": 2
            },
            "text/plain": [
              "HBox(children=(FloatProgress(value=0.0, max=74.0), HTML(value='')))"
            ]
          },
          "metadata": {
            "tags": []
          }
        },
        {
          "output_type": "stream",
          "text": [
            "\n"
          ],
          "name": "stdout"
        }
      ]
    },
    {
      "cell_type": "markdown",
      "metadata": {
        "id": "lL0h7wIbEC28"
      },
      "source": [
        "A 0.8 IOU score and 99% pixel accuracy is quite good :)"
      ]
    },
    {
      "cell_type": "markdown",
      "metadata": {
        "id": "W4vngt4jRXh4"
      },
      "source": [
        "### Printing few Examples"
      ]
    },
    {
      "cell_type": "code",
      "metadata": {
        "id": "yF4-bLRAwV-g"
      },
      "source": [
        "def get_example_preds(base_file_path, model_path):\r\n",
        "    for i in range(3):\r\n",
        "        print_prediction(f\"{base_file_path}/{i}.jpg\", model_path)"
      ],
      "execution_count": null,
      "outputs": []
    },
    {
      "cell_type": "code",
      "metadata": {
        "colab": {
          "base_uri": "https://localhost:8080/",
          "height": 452
        },
        "id": "LqfhDyXhCE29",
        "outputId": "19757540-1097-4d99-85fa-ae160a2610ad"
      },
      "source": [
        "# change path accordingly\r\n",
        "\r\n",
        "get_example_preds('test-images', 'model_deeplabv3.pth')"
      ],
      "execution_count": null,
      "outputs": [
        {
          "output_type": "display_data",
          "data": {
            "image/png": "[encoded data removed]",
            "text/plain": [
              "<Figure size 432x288 with 3 Axes>"
            ]
          },
          "metadata": {
            "tags": [],
            "needs_background": "light"
          }
        },
        {
          "output_type": "display_data",
          "data": {
            "image/png": "[encoded data removed]",
            "text/plain": [
              "<Figure size 432x288 with 3 Axes>"
            ]
          },
          "metadata": {
            "tags": [],
            "needs_background": "light"
          }
        },
        {
          "output_type": "display_data",
          "data": {
            "image/png": "[encoded data removed]",
            "text/plain": [
              "<Figure size 432x288 with 3 Axes>"
            ]
          },
          "metadata": {
            "tags": [],
            "needs_background": "light"
          }
        }
      ]
    },
    {
      "cell_type": "code",
      "metadata": {
        "id": "3TkAho-SDhfP"
      },
      "source": [
        ""
      ],
      "execution_count": null,
      "outputs": []
    }
  ]
}